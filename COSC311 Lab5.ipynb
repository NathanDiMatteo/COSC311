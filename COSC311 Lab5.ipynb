{
 "cells": [
  {
   "cell_type": "code",
   "execution_count": 1,
   "id": "75e1a513-c6e1-48a9-bc13-adfac7fce541",
   "metadata": {},
   "outputs": [],
   "source": [
    "import numpy as np\n",
    "from matplotlib import pyplot as plt\n",
    "import pandas as pd\n",
    "import random\n",
    "from collections import Counter\n",
    "import copy\n",
    "import tqdm\n",
    "from sklearn.metrics import confusion_matrix"
   ]
  },
  {
   "cell_type": "code",
   "execution_count": 2,
   "id": "290d690b-282c-45be-b1f5-d316c5a60f9c",
   "metadata": {},
   "outputs": [
    {
     "data": {
      "text/html": [
       "<div>\n",
       "<style scoped>\n",
       "    .dataframe tbody tr th:only-of-type {\n",
       "        vertical-align: middle;\n",
       "    }\n",
       "\n",
       "    .dataframe tbody tr th {\n",
       "        vertical-align: top;\n",
       "    }\n",
       "\n",
       "    .dataframe thead th {\n",
       "        text-align: right;\n",
       "    }\n",
       "</style>\n",
       "<table border=\"1\" class=\"dataframe\">\n",
       "  <thead>\n",
       "    <tr style=\"text-align: right;\">\n",
       "      <th></th>\n",
       "      <th>Sepal Length</th>\n",
       "      <th>Sepal Width</th>\n",
       "      <th>Petal Length</th>\n",
       "      <th>Petal Width</th>\n",
       "      <th>Class</th>\n",
       "    </tr>\n",
       "  </thead>\n",
       "  <tbody>\n",
       "    <tr>\n",
       "      <th>0</th>\n",
       "      <td>5.1</td>\n",
       "      <td>3.5</td>\n",
       "      <td>1.4</td>\n",
       "      <td>0.2</td>\n",
       "      <td>Iris-setosa</td>\n",
       "    </tr>\n",
       "    <tr>\n",
       "      <th>1</th>\n",
       "      <td>4.9</td>\n",
       "      <td>3.0</td>\n",
       "      <td>1.4</td>\n",
       "      <td>0.2</td>\n",
       "      <td>Iris-setosa</td>\n",
       "    </tr>\n",
       "    <tr>\n",
       "      <th>2</th>\n",
       "      <td>4.7</td>\n",
       "      <td>3.2</td>\n",
       "      <td>1.3</td>\n",
       "      <td>0.2</td>\n",
       "      <td>Iris-setosa</td>\n",
       "    </tr>\n",
       "    <tr>\n",
       "      <th>3</th>\n",
       "      <td>4.6</td>\n",
       "      <td>3.1</td>\n",
       "      <td>1.5</td>\n",
       "      <td>0.2</td>\n",
       "      <td>Iris-setosa</td>\n",
       "    </tr>\n",
       "    <tr>\n",
       "      <th>4</th>\n",
       "      <td>5.0</td>\n",
       "      <td>3.6</td>\n",
       "      <td>1.4</td>\n",
       "      <td>0.2</td>\n",
       "      <td>Iris-setosa</td>\n",
       "    </tr>\n",
       "    <tr>\n",
       "      <th>...</th>\n",
       "      <td>...</td>\n",
       "      <td>...</td>\n",
       "      <td>...</td>\n",
       "      <td>...</td>\n",
       "      <td>...</td>\n",
       "    </tr>\n",
       "    <tr>\n",
       "      <th>145</th>\n",
       "      <td>6.7</td>\n",
       "      <td>3.0</td>\n",
       "      <td>5.2</td>\n",
       "      <td>2.3</td>\n",
       "      <td>Iris-virginica</td>\n",
       "    </tr>\n",
       "    <tr>\n",
       "      <th>146</th>\n",
       "      <td>6.3</td>\n",
       "      <td>2.5</td>\n",
       "      <td>5.0</td>\n",
       "      <td>1.9</td>\n",
       "      <td>Iris-virginica</td>\n",
       "    </tr>\n",
       "    <tr>\n",
       "      <th>147</th>\n",
       "      <td>6.5</td>\n",
       "      <td>3.0</td>\n",
       "      <td>5.2</td>\n",
       "      <td>2.0</td>\n",
       "      <td>Iris-virginica</td>\n",
       "    </tr>\n",
       "    <tr>\n",
       "      <th>148</th>\n",
       "      <td>6.2</td>\n",
       "      <td>3.4</td>\n",
       "      <td>5.4</td>\n",
       "      <td>2.3</td>\n",
       "      <td>Iris-virginica</td>\n",
       "    </tr>\n",
       "    <tr>\n",
       "      <th>149</th>\n",
       "      <td>5.9</td>\n",
       "      <td>3.0</td>\n",
       "      <td>5.1</td>\n",
       "      <td>1.8</td>\n",
       "      <td>Iris-virginica</td>\n",
       "    </tr>\n",
       "  </tbody>\n",
       "</table>\n",
       "<p>150 rows × 5 columns</p>\n",
       "</div>"
      ],
      "text/plain": [
       "     Sepal Length  Sepal Width  Petal Length  Petal Width           Class\n",
       "0             5.1          3.5           1.4          0.2     Iris-setosa\n",
       "1             4.9          3.0           1.4          0.2     Iris-setosa\n",
       "2             4.7          3.2           1.3          0.2     Iris-setosa\n",
       "3             4.6          3.1           1.5          0.2     Iris-setosa\n",
       "4             5.0          3.6           1.4          0.2     Iris-setosa\n",
       "..            ...          ...           ...          ...             ...\n",
       "145           6.7          3.0           5.2          2.3  Iris-virginica\n",
       "146           6.3          2.5           5.0          1.9  Iris-virginica\n",
       "147           6.5          3.0           5.2          2.0  Iris-virginica\n",
       "148           6.2          3.4           5.4          2.3  Iris-virginica\n",
       "149           5.9          3.0           5.1          1.8  Iris-virginica\n",
       "\n",
       "[150 rows x 5 columns]"
      ]
     },
     "execution_count": 2,
     "metadata": {},
     "output_type": "execute_result"
    }
   ],
   "source": [
    "iris = pd.read_csv('../Data/iris.data', header=None, skipinitialspace=True,\n",
    "    names = ['Sepal Length', 'Sepal Width', 'Petal Length', 'Petal Width', 'Class']\n",
    "    )\n",
    "iris"
   ]
  },
  {
   "cell_type": "markdown",
   "id": "d636a0da-92d6-402d-9c76-1a58465d83dc",
   "metadata": {},
   "source": [
    "## 2. Begin by implementing the k-Nearest Neighbors (kNN) classification algorithm\n",
    "\n",
    "(a) Use a Python class with internal parameter k and methods train and predict. <br>\n",
    "i. The train method should take in an array of pre-labeled data and store them to be used in\n",
    "the kNN calculation later. <br>\n",
    "ii. The predict method should take in a single data point (of the same dimension as those used\n",
    "in training) and return the label of the kNN decision. Keep in mind that, in general, you\n",
    "may have to choose between multiple labels. In this case, ties are possible, but you can just\n",
    "decide to break them randomly or increase k to get more votes.<br>\n",
    "(b) Test the algorithm on some simple hand-made data that you can easily visualize or inspect to\n",
    "check for correct behavior."
   ]
  },
  {
   "cell_type": "code",
   "execution_count": 3,
   "id": "0834819d-61b5-4fd1-bd4c-51f4f9495b08",
   "metadata": {},
   "outputs": [],
   "source": [
    "# Class with internal parameter k and methods train and predict\n",
    "class KNN:\n",
    "    def __init__(self, k):\n",
    "        self.k = k\n",
    "        \n",
    "    # i.The train method should take in an array of pre-labeled data and store them to be used in the kNN calculation later.\n",
    "    # training the algorithm based on already found data\n",
    "    def train(self, data, labels):\n",
    "        self.data = data\n",
    "        self.labels = labels\n",
    "        \n",
    "    # ii. The predict method should take in a single data point (of the same dimension as those used in training) \n",
    "    # and return the label of the kNN decision. Keep in mind that, in general, you may have to choose between multiple labels. \n",
    "    # In this case, ties are possible, but you can just decide to break them randomly or increase k to get more votes\n",
    "    # send in a test point for it to be classified\n",
    "    def predict(self, x):\n",
    "        # need to find k closest neighbors to the point w the Euclidean norm\n",
    "        # pair up each distance with the label of its point\n",
    "        distances = [ (norm(x - self.data[i]), self.labels[i]) for i in range(len(self.data))]\n",
    "        #print('Distances: ', distances)\n",
    "        \n",
    "        # order all the distances\n",
    "        k_nearest = sorted(distances)\n",
    "        #print('k_nearest: ', distances)\n",
    "        \n",
    "        # determine the labels of the top k points & do majority vote\n",
    "        return max(Counter([p[1] for p in k_nearest[:k]]))\n",
    "    "
   ]
  },
  {
   "cell_type": "code",
   "execution_count": 4,
   "id": "bb6cd2ae-d0e3-4190-9e33-0c0c3b4418e8",
   "metadata": {},
   "outputs": [],
   "source": [
    "def norm(x):\n",
    "    return np.sqrt(np.sum(x**2))"
   ]
  },
  {
   "cell_type": "markdown",
   "id": "a5bddfe7-5cdc-46b7-863b-6cc71b13b57b",
   "metadata": {},
   "source": [
    "(2b) Test the algorithm on some simple hand-made data that you can easily visualize or inspect to\n",
    "check for correct behavior."
   ]
  },
  {
   "cell_type": "code",
   "execution_count": 5,
   "id": "8c49a927-e72e-4a09-a94d-7e89be4fb3b9",
   "metadata": {},
   "outputs": [
    {
     "data": {
      "text/plain": [
       "'Red'"
      ]
     },
     "execution_count": 5,
     "metadata": {},
     "output_type": "execute_result"
    }
   ],
   "source": [
    "k = 3\n",
    "knn = KNN(k) \n",
    "\n",
    "data = np.array([\n",
    "    [4,2],\n",
    "    [5,3],\n",
    "    [-1,3],\n",
    "    [2,4],\n",
    "    [5,-2],\n",
    "    [-5,1],\n",
    "    [1,-1],\n",
    "    [4,-3]\n",
    "])\n",
    "labels = np.random.choice(a=['Red', 'Black'], size=len(data))\n",
    "\n",
    "unknown = [2, 1]\n",
    "\n",
    "knn.train(data, labels)\n",
    "knn.predict(unknown)"
   ]
  },
  {
   "cell_type": "markdown",
   "id": "32505eda-44f9-4e9f-ba88-fe3df20a32ff",
   "metadata": {},
   "source": [
    "## 3. Write a python routines to split a given data set (randomly) into testing and training subsets. \n",
    "It’s a good idea to parameterize this process with a percentage p so the data is split into sets of size np and\n",
    "n(1 − p); then you can “tune” p later for your specific training/testing procedure."
   ]
  },
  {
   "cell_type": "code",
   "execution_count": 6,
   "id": "3c4e0a3c-9b1f-4b43-a05c-3c70352a6eca",
   "metadata": {},
   "outputs": [],
   "source": [
    "def divideSets(p,data):\n",
    "    copydata = copy.deepcopy(data)\n",
    "    np.random.shuffle(copydata)\n",
    "    list1 = copydata[:int(p*len(copydata))]\n",
    "    list2 = copydata[int(p*len(copydata)):]\n",
    "\n",
    "    return (list1, list2)"
   ]
  },
  {
   "cell_type": "code",
   "execution_count": 7,
   "id": "9dadc5c0-9220-4e51-8b3f-a07e89d96861",
   "metadata": {},
   "outputs": [
    {
     "name": "stdout",
     "output_type": "stream",
     "text": [
      "[ 1  2  3  4  5  6  7  8  9 10]\n",
      "(array([3, 9]), array([ 5,  2, 10,  8,  4,  7,  6,  1]))\n"
     ]
    }
   ],
   "source": [
    "temp = np.array([1, 2, 3, 4, 5, 6, 7, 8, 9, 10] )\n",
    "print(temp)\n",
    "print(divideSets(.2, temp))"
   ]
  },
  {
   "cell_type": "markdown",
   "id": "d571122e-3c36-4772-8c5a-592daeb613e3",
   "metadata": {},
   "source": [
    "## 4. Using Python, implement the k-means algorithm and test this on the Iris dataset. \n",
    "Try using all of the columns versus only a subset. What works the best? How well does the algorithm do when setting\n",
    "k = 3, the true number of classes? Show the results visually (using only 2-d scatter plots) – be sure to\n",
    "indicate visually both the predicted cluster result and the true iris class.\n"
   ]
  },
  {
   "cell_type": "code",
   "execution_count": 8,
   "id": "573433d4-1852-47ab-ad1b-0206040d2cb4",
   "metadata": {},
   "outputs": [
    {
     "name": "stdout",
     "output_type": "stream",
     "text": [
      "The unclassified point [8, 1.2, 3, 5.1] has been classified as: Iris-virginica\n"
     ]
    }
   ],
   "source": [
    "k = 3\n",
    "knn = KNN(k)\n",
    "\n",
    "x = iris[['Sepal Length','Sepal Width', 'Petal Length', 'Petal Width']].values\n",
    "labels = iris['Class'].values\n",
    "\n",
    "knn.train(x, labels)\n",
    "\n",
    "unclassified = [8, 1.2, 3, 5.1]\n",
    "print(f'The unclassified point {unclassified} has been classified as:', knn.predict(unclassified))"
   ]
  },
  {
   "cell_type": "code",
   "execution_count": 9,
   "id": "5ccf84c4-dfb1-4538-ac73-ae34344fa4e4",
   "metadata": {},
   "outputs": [
    {
     "data": {
      "text/plain": [
       "Text(0.5, 1.0, 'Sepal Length vs Width & Petal Length vs Width')"
      ]
     },
     "execution_count": 9,
     "metadata": {},
     "output_type": "execute_result"
    },
    {
     "data": {
      "image/png": "[encoded data removed]",
      "text/plain": [
       "<Figure size 432x288 with 1 Axes>"
      ]
     },
     "metadata": {
      "needs_background": "light"
     },
     "output_type": "display_data"
    }
   ],
   "source": [
    "setosa = iris[iris['Class'] == 'Iris-setosa']\n",
    "virginica = iris[iris['Class'] == 'Iris-virginica']\n",
    "versicolor = iris[iris['Class'] == 'Iris-versicolor']\n",
    "\n",
    "# SEPAL LENGTH VS WIDTH\n",
    "plt.scatter(x=setosa['Sepal Length'], y=setosa['Sepal Width'], color='b')\n",
    "plt.scatter(x=virginica['Sepal Length'], y=virginica['Sepal Width'], color='r')\n",
    "plt.scatter(x=versicolor['Sepal Length'], y=versicolor['Sepal Width'], color='g')\n",
    "\n",
    "# PETAL LENGTH VS WIDTH\n",
    "plt.scatter(x=setosa['Petal Length'], y=setosa['Petal Width'], color='cornflowerblue')\n",
    "plt.scatter(x=virginica['Petal Length'], y=virginica['Petal Width'], color='lightcoral')\n",
    "plt.scatter(x=versicolor['Petal Length'], y=versicolor['Petal Width'], color='lightgreen')\n",
    "\n",
    "plt.scatter(x=unclassified[0], y=unclassified[1], color='black') \n",
    "plt.scatter(x=unclassified[2], y=unclassified[3], color='black') \n",
    "\n",
    "plt.legend(['Setosa', 'Viginica', 'Versicolor'])\n",
    "plt.title(\"Sepal Length vs Width & Petal Length vs Width\")"
   ]
  },
  {
   "cell_type": "code",
   "execution_count": 10,
   "id": "e41fcd1e-df22-43da-90ad-b8ca1ac0c854",
   "metadata": {},
   "outputs": [
    {
     "name": "stdout",
     "output_type": "stream",
     "text": [
      "The unclassified point [3, 6] has been classified as: Iris-setosa\n"
     ]
    }
   ],
   "source": [
    "k = 3\n",
    "knn = KNN(k)\n",
    "\n",
    "x = iris[['Sepal Length','Sepal Width']].values\n",
    "labels = iris['Class'].values\n",
    "\n",
    "knn.train(x, labels)\n",
    "\n",
    "unclassified = [3, 6]\n",
    "print(f'The unclassified point {unclassified} has been classified as:', knn.predict(unclassified))"
   ]
  },
  {
   "cell_type": "code",
   "execution_count": 11,
   "id": "400e889a-4311-4021-86a5-f651ddea9194",
   "metadata": {},
   "outputs": [
    {
     "data": {
      "text/plain": [
       "Text(0.5, 1.0, 'Sepal Length vs Width & Petal Length vs Width')"
      ]
     },
     "execution_count": 11,
     "metadata": {},
     "output_type": "execute_result"
    },
    {
     "data": {
      "image/png": "[encoded data removed]",
      "text/plain": [
       "<Figure size 432x288 with 1 Axes>"
      ]
     },
     "metadata": {
      "needs_background": "light"
     },
     "output_type": "display_data"
    }
   ],
   "source": [
    "plt.scatter(x=setosa['Sepal Length'], y=setosa['Sepal Width'], color='b')\n",
    "plt.scatter(x=virginica['Sepal Length'], y=virginica['Sepal Width'], color='r')\n",
    "plt.scatter(x=versicolor['Sepal Length'], y=versicolor['Sepal Width'], color='g')\n",
    "\n",
    "plt.scatter(x=unclassified[0], y=unclassified[1], color='black') \n",
    "plt.legend(['Setosa', 'Viginica', 'Versicolor'])\n",
    "plt.title(\"Sepal Length vs Width & Petal Length vs Width\")"
   ]
  },
  {
   "cell_type": "markdown",
   "id": "af36863e-123e-4731-9c4b-083d975f123a",
   "metadata": {},
   "source": [
    "## 5. Using the iris dataset, test your kNN algorithm to predict which class a given iris belongs to. \n",
    "(a) Show some confusion matrices for different size testing versus training datasets. <br>\n",
    "(b) How does the accuracy change for different size training sets? Show how the accuracy changes\n",
    "within the training set and testing set separately. <br>\n",
    "(c) What if you repeat this process, keeping the training fraction p the same? Does the accuracy\n",
    "change drastically based on the “quality” of the testing set? How might you quantify this behavior? <br>"
   ]
  },
  {
   "cell_type": "code",
   "execution_count": 12,
   "id": "a3ac4141-c4d5-4d8c-b8bc-1e55d012ef6b",
   "metadata": {},
   "outputs": [
    {
     "name": "stdout",
     "output_type": "stream",
     "text": [
      "\n",
      "Data (List1):\n",
      " [5.4, 5.5, 5.8, 6.5, 5.5, 5.4, 4.4, 7.7, 6.6, 6.7, 6.5, 6.1, 6.4, 6.3, 4.7, 6.3, 5.3, 4.9, 6.0, 5.1, 6.0, 6.3, 6.4, 6.7, 6.9, 6.4, 6.5, 5.5, 5.2, 4.9, 5.6, 5.7, 5.8, 5.0, 6.3, 7.2, 4.6, 5.8, 6.3, 6.3, 5.1, 4.4, 5.5, 5.6, 5.1, 5.6, 5.0, 5.6, 5.1, 5.4, 5.6, 7.2, 4.8, 5.2, 5.7, 6.4, 6.5, 4.9, 7.7, 6.1, 6.9, 6.2, 5.1, 6.6, 5.8, 5.0, 4.8, 6.0, 5.9, 6.3, 6.1, 5.0, 7.1, 6.1, 6.8, 6.2, 5.4, 5.7, 5.4, 5.1, 6.8, 6.0, 5.7, 4.5, 6.3, 6.1, 7.6, 4.6, 4.3, 4.9]\n",
      "\n",
      "Labels (List1):\n",
      " ['Iris-setosa', 'Iris-versicolor', 'Iris-virginica', 'Iris-virginica', 'Iris-setosa', 'Iris-setosa', 'Iris-setosa', 'Iris-virginica', 'Iris-versicolor', 'Iris-virginica', 'Iris-virginica', 'Iris-virginica', 'Iris-versicolor', 'Iris-virginica', 'Iris-setosa', 'Iris-virginica', 'Iris-setosa', 'Iris-versicolor', 'Iris-virginica', 'Iris-setosa', 'Iris-versicolor', 'Iris-versicolor', 'Iris-virginica', 'Iris-virginica', 'Iris-virginica', 'Iris-versicolor', 'Iris-virginica', 'Iris-versicolor', 'Iris-versicolor', 'Iris-setosa', 'Iris-versicolor', 'Iris-virginica', 'Iris-versicolor', 'Iris-setosa', 'Iris-versicolor', 'Iris-virginica', 'Iris-setosa', 'Iris-virginica', 'Iris-versicolor', 'Iris-virginica', 'Iris-setosa', 'Iris-setosa', 'Iris-versicolor', 'Iris-versicolor', 'Iris-setosa', 'Iris-versicolor', 'Iris-setosa', 'Iris-virginica', 'Iris-versicolor', 'Iris-setosa', 'Iris-versicolor', 'Iris-virginica', 'Iris-setosa', 'Iris-setosa', 'Iris-versicolor', 'Iris-virginica', 'Iris-versicolor', 'Iris-setosa', 'Iris-virginica', 'Iris-versicolor', 'Iris-versicolor', 'Iris-versicolor', 'Iris-setosa', 'Iris-versicolor', 'Iris-virginica', 'Iris-setosa', 'Iris-setosa', 'Iris-versicolor', 'Iris-versicolor', 'Iris-virginica', 'Iris-virginica', 'Iris-setosa', 'Iris-virginica', 'Iris-versicolor', 'Iris-versicolor', 'Iris-versicolor', 'Iris-setosa', 'Iris-versicolor', 'Iris-versicolor', 'Iris-setosa', 'Iris-virginica', 'Iris-virginica', 'Iris-versicolor', 'Iris-setosa', 'Iris-virginica', 'Iris-versicolor', 'Iris-virginica', 'Iris-setosa', 'Iris-setosa', 'Iris-setosa']\n",
      "\n",
      "Data (List2):\n",
      " [4.6, 4.7, 6.4, 7.7, 5.4, 4.8, 5.7, 6.7, 4.9, 7.0, 6.2, 6.0, 4.4, 5.0, 6.8, 6.7, 5.1, 6.4, 6.1, 6.5, 5.2, 5.2, 5.8, 7.7, 6.0, 7.4, 5.9, 6.7, 5.1, 4.9, 5.0, 6.9, 6.4, 6.2, 5.5, 5.5, 5.5, 6.3, 5.7, 5.1, 7.2, 5.0, 4.8, 5.7, 4.6, 5.0, 7.3, 5.0, 6.7, 4.8, 7.9, 6.7, 5.7, 5.8, 5.6, 6.7, 6.9, 5.0, 5.8, 5.9]\n",
      "\n",
      "Labels (List2):\n",
      " ['Iris-setosa', 'Iris-setosa', 'Iris-virginica', 'Iris-virginica', 'Iris-setosa', 'Iris-setosa', 'Iris-versicolor', 'Iris-versicolor', 'Iris-setosa', 'Iris-versicolor', 'Iris-virginica', 'Iris-versicolor', 'Iris-setosa', 'Iris-versicolor', 'Iris-virginica', 'Iris-versicolor', 'Iris-setosa', 'Iris-virginica', 'Iris-versicolor', 'Iris-virginica', 'Iris-setosa', 'Iris-setosa', 'Iris-versicolor', 'Iris-virginica', 'Iris-versicolor', 'Iris-virginica', 'Iris-versicolor', 'Iris-versicolor', 'Iris-setosa', 'Iris-virginica', 'Iris-setosa', 'Iris-virginica', 'Iris-virginica', 'Iris-virginica', 'Iris-versicolor', 'Iris-versicolor', 'Iris-setosa', 'Iris-virginica', 'Iris-versicolor', 'Iris-setosa', 'Iris-virginica', 'Iris-setosa', 'Iris-setosa', 'Iris-setosa', 'Iris-setosa', 'Iris-setosa', 'Iris-virginica', 'Iris-setosa', 'Iris-virginica', 'Iris-setosa', 'Iris-virginica', 'Iris-virginica', 'Iris-setosa', 'Iris-setosa', 'Iris-versicolor', 'Iris-virginica', 'Iris-virginica', 'Iris-versicolor', 'Iris-versicolor', 'Iris-virginica']\n"
     ]
    }
   ],
   "source": [
    "sepal_lengths = [ (iris['Sepal Length'][i], iris['Class'][i]) for i in range(len(iris['Sepal Length']))]\n",
    "\n",
    "p = 0.6\n",
    "n = len(iris['Sepal Length'])\n",
    "rets = divideSets(p, sepal_lengths)\n",
    "list1 = rets[0] \n",
    "list2 = rets[1] \n",
    "\n",
    "data1 = [t[0] for t in list1]\n",
    "print('\\nData (List1):\\n', data1)\n",
    "labels1 = [t[1] for t in list1]\n",
    "print('\\nLabels (List1):\\n', labels1)\n",
    "\n",
    "data2 = [t[0] for t in list2]\n",
    "print('\\nData (List2):\\n', data2)\n",
    "labels2 = [t[1] for t in list2]\n",
    "print('\\nLabels (List2):\\n', labels2)"
   ]
  },
  {
   "cell_type": "code",
   "execution_count": 13,
   "id": "2801964a-c66b-47e6-b94c-f0bd258b2258",
   "metadata": {},
   "outputs": [
    {
     "name": "stdout",
     "output_type": "stream",
     "text": [
      "[(4.6, 'Iris-setosa'), (4.7, 'Iris-setosa'), (6.4, 'Iris-virginica'), (7.7, 'Iris-virginica'), (5.4, 'Iris-setosa'), (4.8, 'Iris-setosa'), (5.7, 'Iris-versicolor'), (6.7, 'Iris-virginica'), (4.9, 'Iris-setosa'), (7.0, 'Iris-virginica'), (6.2, 'Iris-versicolor'), (6.0, 'Iris-virginica'), (4.4, 'Iris-setosa'), (5.0, 'Iris-setosa'), (6.8, 'Iris-virginica'), (6.7, 'Iris-virginica'), (5.1, 'Iris-setosa'), (6.4, 'Iris-virginica'), (6.1, 'Iris-versicolor'), (6.5, 'Iris-virginica'), (5.2, 'Iris-versicolor'), (5.2, 'Iris-versicolor'), (5.8, 'Iris-virginica'), (7.7, 'Iris-virginica'), (6.0, 'Iris-virginica'), (7.4, 'Iris-virginica'), (5.9, 'Iris-versicolor'), (6.7, 'Iris-virginica'), (5.1, 'Iris-setosa'), (4.9, 'Iris-setosa'), (5.0, 'Iris-setosa'), (6.9, 'Iris-virginica'), (6.4, 'Iris-virginica'), (6.2, 'Iris-versicolor'), (5.5, 'Iris-versicolor'), (5.5, 'Iris-versicolor'), (5.5, 'Iris-versicolor'), (6.3, 'Iris-versicolor'), (5.7, 'Iris-versicolor'), (5.1, 'Iris-setosa'), (7.2, 'Iris-virginica'), (5.0, 'Iris-setosa'), (4.8, 'Iris-setosa'), (5.7, 'Iris-versicolor'), (4.6, 'Iris-setosa'), (5.0, 'Iris-setosa'), (7.3, 'Iris-virginica'), (5.0, 'Iris-setosa'), (6.7, 'Iris-virginica'), (4.8, 'Iris-setosa'), (7.9, 'Iris-virginica'), (6.7, 'Iris-virginica'), (5.7, 'Iris-versicolor'), (5.8, 'Iris-virginica'), (5.6, 'Iris-versicolor'), (6.7, 'Iris-virginica'), (6.9, 'Iris-virginica'), (5.0, 'Iris-setosa'), (5.8, 'Iris-virginica'), (5.9, 'Iris-versicolor')]\n"
     ]
    }
   ],
   "source": [
    "k = 3\n",
    "knn = KNN(k)\n",
    "\n",
    "knn.train(data1, labels1)\n",
    "\n",
    "predictions_labels = []\n",
    "for x in data2:\n",
    "    predictions_labels.append(knn.predict(x))\n",
    "    \n",
    "predictions = [ (data2[i], predictions_labels[i]) for i in range(len(predictions_labels))]\n",
    "print(predictions)"
   ]
  },
  {
   "cell_type": "markdown",
   "id": "a6754088-a2af-4e1c-acf0-6fbf2de055c8",
   "metadata": {},
   "source": [
    "(a) Show some confusion matrices for different size testing versus training datasets."
   ]
  },
  {
   "cell_type": "code",
   "execution_count": 14,
   "id": "324f50a5-758b-4a70-b86a-986b3d1b34bc",
   "metadata": {},
   "outputs": [
    {
     "name": "stdout",
     "output_type": "stream",
     "text": [
      "True Labels:\n",
      " ['Iris-setosa', 'Iris-setosa', 'Iris-virginica', 'Iris-virginica', 'Iris-setosa', 'Iris-setosa', 'Iris-versicolor', 'Iris-versicolor', 'Iris-setosa', 'Iris-versicolor', 'Iris-virginica', 'Iris-versicolor', 'Iris-setosa', 'Iris-versicolor', 'Iris-virginica', 'Iris-versicolor', 'Iris-setosa', 'Iris-virginica', 'Iris-versicolor', 'Iris-virginica', 'Iris-setosa', 'Iris-setosa', 'Iris-versicolor', 'Iris-virginica', 'Iris-versicolor', 'Iris-virginica', 'Iris-versicolor', 'Iris-versicolor', 'Iris-setosa', 'Iris-virginica', 'Iris-setosa', 'Iris-virginica', 'Iris-virginica', 'Iris-virginica', 'Iris-versicolor', 'Iris-versicolor', 'Iris-setosa', 'Iris-virginica', 'Iris-versicolor', 'Iris-setosa', 'Iris-virginica', 'Iris-setosa', 'Iris-setosa', 'Iris-setosa', 'Iris-setosa', 'Iris-setosa', 'Iris-virginica', 'Iris-setosa', 'Iris-virginica', 'Iris-setosa', 'Iris-virginica', 'Iris-virginica', 'Iris-setosa', 'Iris-setosa', 'Iris-versicolor', 'Iris-virginica', 'Iris-virginica', 'Iris-versicolor', 'Iris-versicolor', 'Iris-virginica']\n",
      "\n",
      "Predicted Labels:\n",
      " ['Iris-setosa', 'Iris-setosa', 'Iris-virginica', 'Iris-virginica', 'Iris-setosa', 'Iris-setosa', 'Iris-versicolor', 'Iris-virginica', 'Iris-setosa', 'Iris-virginica', 'Iris-versicolor', 'Iris-virginica', 'Iris-setosa', 'Iris-setosa', 'Iris-virginica', 'Iris-virginica', 'Iris-setosa', 'Iris-virginica', 'Iris-versicolor', 'Iris-virginica', 'Iris-versicolor', 'Iris-versicolor', 'Iris-virginica', 'Iris-virginica', 'Iris-virginica', 'Iris-virginica', 'Iris-versicolor', 'Iris-virginica', 'Iris-setosa', 'Iris-setosa', 'Iris-setosa', 'Iris-virginica', 'Iris-virginica', 'Iris-versicolor', 'Iris-versicolor', 'Iris-versicolor', 'Iris-versicolor', 'Iris-versicolor', 'Iris-versicolor', 'Iris-setosa', 'Iris-virginica', 'Iris-setosa', 'Iris-setosa', 'Iris-versicolor', 'Iris-setosa', 'Iris-setosa', 'Iris-virginica', 'Iris-setosa', 'Iris-virginica', 'Iris-setosa', 'Iris-virginica', 'Iris-virginica', 'Iris-versicolor', 'Iris-virginica', 'Iris-versicolor', 'Iris-virginica', 'Iris-virginica', 'Iris-setosa', 'Iris-virginica', 'Iris-versicolor']\n",
      "\n",
      "Confusion Matrix: \n",
      " [[16  5  1]\n",
      " [ 2  7  8]\n",
      " [ 1  4 16]]\n"
     ]
    }
   ],
   "source": [
    "print('True Labels:\\n', labels2)\n",
    "print('\\nPredicted Labels:\\n', predictions_labels)\n",
    "\n",
    "print('\\nConfusion Matrix: \\n', confusion_matrix(labels2, predictions_labels))"
   ]
  },
  {
   "cell_type": "markdown",
   "id": "56d8e694-20ca-4cdd-9da2-0c8828c3e4da",
   "metadata": {},
   "source": [
    "(b) How does the accuracy change for different size training sets? Show how the accuracy changes\n",
    "within the training set and testing set separately."
   ]
  },
  {
   "cell_type": "code",
   "execution_count": 15,
   "id": "7240ab7e-12d8-428c-8322-4f152d1bd71d",
   "metadata": {},
   "outputs": [
    {
     "name": "stdout",
     "output_type": "stream",
     "text": [
      "\n",
      "p = 0.1\n",
      "Confusion Matrix: \n",
      " [[35  9  0]\n",
      " [ 5 36  2]\n",
      " [ 1 34 13]]\n",
      "\n",
      "p = 0.2\n",
      "Confusion Matrix: \n",
      " [[17 14 12]\n",
      " [ 4  5 32]\n",
      " [ 0  0 36]]\n",
      "\n",
      "p = 0.3\n",
      "Confusion Matrix: \n",
      " [[20  9  2]\n",
      " [ 4  8 27]\n",
      " [ 0  1 34]]\n",
      "\n",
      "p = 0.4\n",
      "Confusion Matrix: \n",
      " [[21  9  1]\n",
      " [ 2  7 18]\n",
      " [ 0  4 28]]\n",
      "\n",
      "p = 0.5\n",
      "Confusion Matrix: \n",
      " [[16  8  0]\n",
      " [ 4  8 12]\n",
      " [ 1  5 21]]\n",
      "\n",
      "p = 0.6\n",
      "Confusion Matrix: \n",
      " [[15  3  1]\n",
      " [ 2 10 13]\n",
      " [ 1  3 12]]\n",
      "\n",
      "p = 0.7\n",
      "Confusion Matrix: \n",
      " [[16  4  0]\n",
      " [ 1  5  4]\n",
      " [ 0  5 10]]\n",
      "\n",
      "p = 0.8\n",
      "Confusion Matrix: \n",
      " [[6 4 0]\n",
      " [1 0 6]\n",
      " [0 7 7]]\n",
      "\n",
      "p = 0.9\n",
      "Confusion Matrix: \n",
      " [[4 1 0]\n",
      " [0 2 2]\n",
      " [0 3 3]]\n"
     ]
    }
   ],
   "source": [
    "sepal_lengths = [ (iris['Sepal Length'][i], iris['Class'][i]) for i in range(len(iris['Sepal Length']))]\n",
    "\n",
    "p = 0.1\n",
    "n = len(iris['Sepal Length'])\n",
    "for x in range(9):\n",
    "    rets = divideSets(p, sepal_lengths)\n",
    "    list1 = rets[0] \n",
    "    list2 = rets[1] \n",
    "\n",
    "    data1 = [t[0] for t in list1]\n",
    "    labels1 = [t[1] for t in list1]\n",
    "    data2 = [t[0] for t in list2]\n",
    "    labels2 = [t[1] for t in list2]\n",
    "\n",
    "    k = 3\n",
    "    knn = KNN(k)\n",
    "    knn.train(data1, labels1)\n",
    "    predictions_labels = []\n",
    "    for x in data2:\n",
    "        predictions_labels.append(knn.predict(x))\n",
    "\n",
    "    predictions = [ (data2[i], predictions_labels[i]) for i in range(len(predictions_labels))]\n",
    "    print(f'\\np = {p:1.1}')\n",
    "    print('Confusion Matrix: \\n', confusion_matrix(labels2, predictions_labels))\n",
    "    p += 0.1"
   ]
  },
  {
   "cell_type": "markdown",
   "id": "a64edaac-62c3-424a-9dde-4162b7706bb3",
   "metadata": {},
   "source": [
    "(c) What if you repeat this process, keeping the training fraction p the same? Does the accuracy\n",
    "change drastically based on the “quality” of the testing set? How might you quantify this behavior?"
   ]
  },
  {
   "cell_type": "code",
   "execution_count": 16,
   "id": "c82f9dcc-68c7-4b7e-b09a-a166bf611803",
   "metadata": {},
   "outputs": [
    {
     "name": "stdout",
     "output_type": "stream",
     "text": [
      "\n",
      "p = 0.6\n",
      "Confusion Matrix: \n",
      " [[17  2  0]\n",
      " [ 3  8  6]\n",
      " [ 1  5 18]]\n",
      "\n",
      "p = 0.6\n",
      "Confusion Matrix: \n",
      " [[15  2  2]\n",
      " [ 0  6 15]\n",
      " [ 0  6 14]]\n",
      "\n",
      "p = 0.6\n",
      "Confusion Matrix: \n",
      " [[10  5  1]\n",
      " [ 2  3 16]\n",
      " [ 0  6 17]]\n",
      "\n",
      "p = 0.6\n",
      "Confusion Matrix: \n",
      " [[ 9  4  0]\n",
      " [ 3 14  5]\n",
      " [ 0 10 15]]\n",
      "\n",
      "p = 0.6\n",
      "Confusion Matrix: \n",
      " [[14  5  1]\n",
      " [ 3  2 12]\n",
      " [ 0  8 15]]\n"
     ]
    }
   ],
   "source": [
    "p = 0.6\n",
    "n = len(iris['Sepal Length'])\n",
    "for x in range(5):\n",
    "    rets = divideSets(p, sepal_lengths)\n",
    "    list1 = rets[0] \n",
    "    list2 = rets[1] \n",
    "\n",
    "    \n",
    "    data1 = [t[0] for t in list1]\n",
    "    labels1 = [t[1] for t in list1]\n",
    "    data2 = [t[0] for t in list2]\n",
    "    labels2 = [t[1] for t in list2]\n",
    "\n",
    "    k = 3\n",
    "    knn = KNN(k)\n",
    "    knn.train(data1, labels1)\n",
    "    predictions_labels = []\n",
    "    for x in data2:\n",
    "        predictions_labels.append(knn.predict(x))\n",
    "\n",
    "    \n",
    "    predictions = [ (data2[i], predictions_labels[i]) for i in range(len(predictions_labels))]\n",
    "   \n",
    "    print(f'\\np = {p:1.1}')\n",
    "    print('Confusion Matrix: \\n', confusion_matrix(labels2, predictions_labels))"
   ]
  },
  {
   "cell_type": "markdown",
   "id": "790062b0-1946-468c-94d0-16e87fbc61be",
   "metadata": {},
   "source": [
    "## 6. Try using the adult dataset to also do some prediction of income level (more or less than $50k). \n",
    "(a) How can you try to quantify the “distance” between two adults? Write some small python\n",
    "functions to try and transform this data into something that can be used by the kNN classifier.\n",
    "Try a couple different approaches, report their different behaviors and illustrate using learning\n",
    "curves, confusion matrices, and possibly some statistical measurements. <br>\n",
    "(b) Are there other “labels” within the dataset that can be effectively learned by the kNN classifier?"
   ]
  },
  {
   "cell_type": "code",
   "execution_count": 17,
   "id": "93ef1f37-a696-4862-b172-6fb0d4ebd192",
   "metadata": {},
   "outputs": [
    {
     "data": {
      "text/html": [
       "<div>\n",
       "<style scoped>\n",
       "    .dataframe tbody tr th:only-of-type {\n",
       "        vertical-align: middle;\n",
       "    }\n",
       "\n",
       "    .dataframe tbody tr th {\n",
       "        vertical-align: top;\n",
       "    }\n",
       "\n",
       "    .dataframe thead th {\n",
       "        text-align: right;\n",
       "    }\n",
       "</style>\n",
       "<table border=\"1\" class=\"dataframe\">\n",
       "  <thead>\n",
       "    <tr style=\"text-align: right;\">\n",
       "      <th></th>\n",
       "      <th>age</th>\n",
       "      <th>workclass</th>\n",
       "      <th>fnlwgt</th>\n",
       "      <th>education</th>\n",
       "      <th>education-num</th>\n",
       "      <th>marital-status</th>\n",
       "      <th>occupation</th>\n",
       "      <th>relationship</th>\n",
       "      <th>race</th>\n",
       "      <th>sex</th>\n",
       "      <th>capital-gain</th>\n",
       "      <th>capital-loss</th>\n",
       "      <th>hours-per-week</th>\n",
       "      <th>native-country</th>\n",
       "      <th>income</th>\n",
       "    </tr>\n",
       "  </thead>\n",
       "  <tbody>\n",
       "    <tr>\n",
       "      <th>0</th>\n",
       "      <td>39</td>\n",
       "      <td>State-gov</td>\n",
       "      <td>77516</td>\n",
       "      <td>Bachelors</td>\n",
       "      <td>13</td>\n",
       "      <td>Never-married</td>\n",
       "      <td>Adm-clerical</td>\n",
       "      <td>Not-in-family</td>\n",
       "      <td>White</td>\n",
       "      <td>Male</td>\n",
       "      <td>2174</td>\n",
       "      <td>0</td>\n",
       "      <td>40</td>\n",
       "      <td>United-States</td>\n",
       "      <td>&lt;=50K</td>\n",
       "    </tr>\n",
       "    <tr>\n",
       "      <th>1</th>\n",
       "      <td>50</td>\n",
       "      <td>Self-emp-not-inc</td>\n",
       "      <td>83311</td>\n",
       "      <td>Bachelors</td>\n",
       "      <td>13</td>\n",
       "      <td>Married-civ-spouse</td>\n",
       "      <td>Exec-managerial</td>\n",
       "      <td>Husband</td>\n",
       "      <td>White</td>\n",
       "      <td>Male</td>\n",
       "      <td>0</td>\n",
       "      <td>0</td>\n",
       "      <td>13</td>\n",
       "      <td>United-States</td>\n",
       "      <td>&lt;=50K</td>\n",
       "    </tr>\n",
       "    <tr>\n",
       "      <th>2</th>\n",
       "      <td>38</td>\n",
       "      <td>Private</td>\n",
       "      <td>215646</td>\n",
       "      <td>HS-grad</td>\n",
       "      <td>9</td>\n",
       "      <td>Divorced</td>\n",
       "      <td>Handlers-cleaners</td>\n",
       "      <td>Not-in-family</td>\n",
       "      <td>White</td>\n",
       "      <td>Male</td>\n",
       "      <td>0</td>\n",
       "      <td>0</td>\n",
       "      <td>40</td>\n",
       "      <td>United-States</td>\n",
       "      <td>&lt;=50K</td>\n",
       "    </tr>\n",
       "    <tr>\n",
       "      <th>3</th>\n",
       "      <td>53</td>\n",
       "      <td>Private</td>\n",
       "      <td>234721</td>\n",
       "      <td>11th</td>\n",
       "      <td>7</td>\n",
       "      <td>Married-civ-spouse</td>\n",
       "      <td>Handlers-cleaners</td>\n",
       "      <td>Husband</td>\n",
       "      <td>Black</td>\n",
       "      <td>Male</td>\n",
       "      <td>0</td>\n",
       "      <td>0</td>\n",
       "      <td>40</td>\n",
       "      <td>United-States</td>\n",
       "      <td>&lt;=50K</td>\n",
       "    </tr>\n",
       "    <tr>\n",
       "      <th>4</th>\n",
       "      <td>28</td>\n",
       "      <td>Private</td>\n",
       "      <td>338409</td>\n",
       "      <td>Bachelors</td>\n",
       "      <td>13</td>\n",
       "      <td>Married-civ-spouse</td>\n",
       "      <td>Prof-specialty</td>\n",
       "      <td>Wife</td>\n",
       "      <td>Black</td>\n",
       "      <td>Female</td>\n",
       "      <td>0</td>\n",
       "      <td>0</td>\n",
       "      <td>40</td>\n",
       "      <td>Cuba</td>\n",
       "      <td>&lt;=50K</td>\n",
       "    </tr>\n",
       "    <tr>\n",
       "      <th>...</th>\n",
       "      <td>...</td>\n",
       "      <td>...</td>\n",
       "      <td>...</td>\n",
       "      <td>...</td>\n",
       "      <td>...</td>\n",
       "      <td>...</td>\n",
       "      <td>...</td>\n",
       "      <td>...</td>\n",
       "      <td>...</td>\n",
       "      <td>...</td>\n",
       "      <td>...</td>\n",
       "      <td>...</td>\n",
       "      <td>...</td>\n",
       "      <td>...</td>\n",
       "      <td>...</td>\n",
       "    </tr>\n",
       "    <tr>\n",
       "      <th>32556</th>\n",
       "      <td>27</td>\n",
       "      <td>Private</td>\n",
       "      <td>257302</td>\n",
       "      <td>Assoc-acdm</td>\n",
       "      <td>12</td>\n",
       "      <td>Married-civ-spouse</td>\n",
       "      <td>Tech-support</td>\n",
       "      <td>Wife</td>\n",
       "      <td>White</td>\n",
       "      <td>Female</td>\n",
       "      <td>0</td>\n",
       "      <td>0</td>\n",
       "      <td>38</td>\n",
       "      <td>United-States</td>\n",
       "      <td>&lt;=50K</td>\n",
       "    </tr>\n",
       "    <tr>\n",
       "      <th>32557</th>\n",
       "      <td>40</td>\n",
       "      <td>Private</td>\n",
       "      <td>154374</td>\n",
       "      <td>HS-grad</td>\n",
       "      <td>9</td>\n",
       "      <td>Married-civ-spouse</td>\n",
       "      <td>Machine-op-inspct</td>\n",
       "      <td>Husband</td>\n",
       "      <td>White</td>\n",
       "      <td>Male</td>\n",
       "      <td>0</td>\n",
       "      <td>0</td>\n",
       "      <td>40</td>\n",
       "      <td>United-States</td>\n",
       "      <td>&gt;50K</td>\n",
       "    </tr>\n",
       "    <tr>\n",
       "      <th>32558</th>\n",
       "      <td>58</td>\n",
       "      <td>Private</td>\n",
       "      <td>151910</td>\n",
       "      <td>HS-grad</td>\n",
       "      <td>9</td>\n",
       "      <td>Widowed</td>\n",
       "      <td>Adm-clerical</td>\n",
       "      <td>Unmarried</td>\n",
       "      <td>White</td>\n",
       "      <td>Female</td>\n",
       "      <td>0</td>\n",
       "      <td>0</td>\n",
       "      <td>40</td>\n",
       "      <td>United-States</td>\n",
       "      <td>&lt;=50K</td>\n",
       "    </tr>\n",
       "    <tr>\n",
       "      <th>32559</th>\n",
       "      <td>22</td>\n",
       "      <td>Private</td>\n",
       "      <td>201490</td>\n",
       "      <td>HS-grad</td>\n",
       "      <td>9</td>\n",
       "      <td>Never-married</td>\n",
       "      <td>Adm-clerical</td>\n",
       "      <td>Own-child</td>\n",
       "      <td>White</td>\n",
       "      <td>Male</td>\n",
       "      <td>0</td>\n",
       "      <td>0</td>\n",
       "      <td>20</td>\n",
       "      <td>United-States</td>\n",
       "      <td>&lt;=50K</td>\n",
       "    </tr>\n",
       "    <tr>\n",
       "      <th>32560</th>\n",
       "      <td>52</td>\n",
       "      <td>Self-emp-inc</td>\n",
       "      <td>287927</td>\n",
       "      <td>HS-grad</td>\n",
       "      <td>9</td>\n",
       "      <td>Married-civ-spouse</td>\n",
       "      <td>Exec-managerial</td>\n",
       "      <td>Wife</td>\n",
       "      <td>White</td>\n",
       "      <td>Female</td>\n",
       "      <td>15024</td>\n",
       "      <td>0</td>\n",
       "      <td>40</td>\n",
       "      <td>United-States</td>\n",
       "      <td>&gt;50K</td>\n",
       "    </tr>\n",
       "  </tbody>\n",
       "</table>\n",
       "<p>32561 rows × 15 columns</p>\n",
       "</div>"
      ],
      "text/plain": [
       "       age         workclass  fnlwgt   education  education-num  \\\n",
       "0       39         State-gov   77516   Bachelors             13   \n",
       "1       50  Self-emp-not-inc   83311   Bachelors             13   \n",
       "2       38           Private  215646     HS-grad              9   \n",
       "3       53           Private  234721        11th              7   \n",
       "4       28           Private  338409   Bachelors             13   \n",
       "...    ...               ...     ...         ...            ...   \n",
       "32556   27           Private  257302  Assoc-acdm             12   \n",
       "32557   40           Private  154374     HS-grad              9   \n",
       "32558   58           Private  151910     HS-grad              9   \n",
       "32559   22           Private  201490     HS-grad              9   \n",
       "32560   52      Self-emp-inc  287927     HS-grad              9   \n",
       "\n",
       "           marital-status         occupation   relationship   race     sex  \\\n",
       "0           Never-married       Adm-clerical  Not-in-family  White    Male   \n",
       "1      Married-civ-spouse    Exec-managerial        Husband  White    Male   \n",
       "2                Divorced  Handlers-cleaners  Not-in-family  White    Male   \n",
       "3      Married-civ-spouse  Handlers-cleaners        Husband  Black    Male   \n",
       "4      Married-civ-spouse     Prof-specialty           Wife  Black  Female   \n",
       "...                   ...                ...            ...    ...     ...   \n",
       "32556  Married-civ-spouse       Tech-support           Wife  White  Female   \n",
       "32557  Married-civ-spouse  Machine-op-inspct        Husband  White    Male   \n",
       "32558             Widowed       Adm-clerical      Unmarried  White  Female   \n",
       "32559       Never-married       Adm-clerical      Own-child  White    Male   \n",
       "32560  Married-civ-spouse    Exec-managerial           Wife  White  Female   \n",
       "\n",
       "       capital-gain  capital-loss  hours-per-week native-country income  \n",
       "0              2174             0              40  United-States  <=50K  \n",
       "1                 0             0              13  United-States  <=50K  \n",
       "2                 0             0              40  United-States  <=50K  \n",
       "3                 0             0              40  United-States  <=50K  \n",
       "4                 0             0              40           Cuba  <=50K  \n",
       "...             ...           ...             ...            ...    ...  \n",
       "32556             0             0              38  United-States  <=50K  \n",
       "32557             0             0              40  United-States   >50K  \n",
       "32558             0             0              40  United-States  <=50K  \n",
       "32559             0             0              20  United-States  <=50K  \n",
       "32560         15024             0              40  United-States   >50K  \n",
       "\n",
       "[32561 rows x 15 columns]"
      ]
     },
     "execution_count": 17,
     "metadata": {},
     "output_type": "execute_result"
    }
   ],
   "source": [
    "adults = pd.read_csv('../Data/adult.data', header=None, skipinitialspace=True,\n",
    "    names = ['age', 'workclass', 'fnlwgt', 'education', 'education-num',\n",
    "            'marital-status', 'occupation', 'relationship', 'race', 'sex',\n",
    "            'capital-gain', 'capital-loss', 'hours-per-week', 'native-country', 'income']\n",
    "    )\n",
    "adults"
   ]
  },
  {
   "cell_type": "code",
   "execution_count": 18,
   "id": "04499b53-0adc-496f-af8c-edbb7ab2f269",
   "metadata": {},
   "outputs": [
    {
     "name": "stderr",
     "output_type": "stream",
     "text": [
      "100%|██████████| 400/400 [00:02<00:00, 191.27it/s]"
     ]
    },
    {
     "name": "stdout",
     "output_type": "stream",
     "text": [
      "\n",
      "p = 0.6\n",
      "Confusion Matrix: \n",
      " [[312   2]\n",
      " [ 78   8]]\n"
     ]
    },
    {
     "name": "stderr",
     "output_type": "stream",
     "text": [
      "\n"
     ]
    }
   ],
   "source": [
    "education_income = [ (adults['education-num'][i], adults['income'][i]) for i in range(1000)]\n",
    "\n",
    "p = 0.6\n",
    "n = len(adults['education-num'])\n",
    "rets = divideSets(p, education_income)\n",
    "list1 = rets[0] \n",
    "list2 = rets[1] \n",
    "\n",
    "\n",
    "data1 = [t[0] for t in list1]\n",
    "labels1 = [t[1] for t in list1]\n",
    "\n",
    "data2 = [t[0] for t in list2]\n",
    "labels2 = [t[1] for t in list2]\n",
    "\n",
    "k = 3\n",
    "knn = KNN(k)\n",
    "knn.train(data1, labels1)\n",
    "predictions_labels = []\n",
    "for i in tqdm.tqdm(range(len(data2))):\n",
    "    predictions_labels.append(knn.predict(data2[i]))\n",
    "\n",
    "predictions = [ (data2[i], predictions_labels[i]) for i in range(len(predictions_labels))]\n",
    "print(f'\\np = {p:1.1}')\n",
    "print('Confusion Matrix: \\n', confusion_matrix(labels2, predictions_labels))"
   ]
  },
  {
   "cell_type": "markdown",
   "id": "4909d1dd-5553-45ac-a066-f50b11b3c308",
   "metadata": {},
   "source": [
    "(a) How can you try to quantify the “distance” between two adults? Write some small python\n",
    "functions to try and transform this data into something that can be used by the kNN classifier.\n",
    "Try a couple different approaches, report their different behaviors and illustrate using learning\n",
    "curves, confusion matrices, and possibly some statistical measurements.\n"
   ]
  },
  {
   "cell_type": "code",
   "execution_count": 19,
   "id": "78013ec2-3526-42eb-8776-bbb2615d8886",
   "metadata": {},
   "outputs": [
    {
     "name": "stdout",
     "output_type": "stream",
     "text": [
      "Occupations and their ranks based on their probability to have an income >50k:\n",
      "\n",
      "[('Priv-house-serv', 0), ('Other-service', 1), ('Handlers-cleaners', 2), ('?', 3), ('Armed-Forces', 4), ('Farming-fishing', 5), ('Machine-op-inspct', 6), ('Adm-clerical', 7), ('Transport-moving', 8), ('Craft-repair', 9), ('Sales', 10), ('Tech-support', 11), ('Protective-serv', 12), ('Prof-specialty', 13), ('Exec-managerial', 14)]\n"
     ]
    }
   ],
   "source": [
    "# scale the occupations based one which are more likely to earn >50k\n",
    "\n",
    "num_occupations = len(adults['occupation'].unique())\n",
    "\n",
    "probabilities = [] \n",
    "for i in adults['occupation'].unique():\n",
    "    current = adults[ (adults['occupation'] == i) & (adults['income'] == '>50K') ]\n",
    "    pAnB = len(current) / len(adults)\n",
    "    B = adults[ (adults['occupation'] == i) ]\n",
    "    pB = len(B) / len(adults)\n",
    "    pAgivenB = pAnB / pB\n",
    "    probabilities.append((pAgivenB, i))\n",
    "    \n",
    "probabilities_sorted = sorted(probabilities)\n",
    "\n",
    "ranks = []\n",
    "count = 0\n",
    "for p in probabilities_sorted:\n",
    "    ranks.append((p[1], count))\n",
    "    count += 1\n",
    "\n",
    "print('Occupations and their ranks based on their probability to have an income >50k:\\n')\n",
    "print(ranks)"
   ]
  },
  {
   "cell_type": "code",
   "execution_count": 20,
   "id": "912cc885-b962-4d23-b48f-82bcf35c7a73",
   "metadata": {},
   "outputs": [],
   "source": [
    "# REPLACE OCCUPATION WITH RANK\n",
    "occupations = adults['occupation']\n",
    "for job in ranks:\n",
    "    occupations = occupations.replace(job[0], job[1])"
   ]
  },
  {
   "cell_type": "code",
   "execution_count": 21,
   "id": "85079df5-65b9-467f-8897-f46307508c9a",
   "metadata": {},
   "outputs": [
    {
     "data": {
      "text/html": [
       "<div>\n",
       "<style scoped>\n",
       "    .dataframe tbody tr th:only-of-type {\n",
       "        vertical-align: middle;\n",
       "    }\n",
       "\n",
       "    .dataframe tbody tr th {\n",
       "        vertical-align: top;\n",
       "    }\n",
       "\n",
       "    .dataframe thead th {\n",
       "        text-align: right;\n",
       "    }\n",
       "</style>\n",
       "<table border=\"1\" class=\"dataframe\">\n",
       "  <thead>\n",
       "    <tr style=\"text-align: right;\">\n",
       "      <th></th>\n",
       "      <th>age</th>\n",
       "      <th>workclass</th>\n",
       "      <th>fnlwgt</th>\n",
       "      <th>education</th>\n",
       "      <th>education-num</th>\n",
       "      <th>marital-status</th>\n",
       "      <th>occupation</th>\n",
       "      <th>relationship</th>\n",
       "      <th>race</th>\n",
       "      <th>sex</th>\n",
       "      <th>capital-gain</th>\n",
       "      <th>capital-loss</th>\n",
       "      <th>hours-per-week</th>\n",
       "      <th>native-country</th>\n",
       "      <th>income</th>\n",
       "      <th>occupation_num</th>\n",
       "    </tr>\n",
       "  </thead>\n",
       "  <tbody>\n",
       "    <tr>\n",
       "      <th>0</th>\n",
       "      <td>39</td>\n",
       "      <td>State-gov</td>\n",
       "      <td>77516</td>\n",
       "      <td>Bachelors</td>\n",
       "      <td>13</td>\n",
       "      <td>Never-married</td>\n",
       "      <td>Adm-clerical</td>\n",
       "      <td>Not-in-family</td>\n",
       "      <td>White</td>\n",
       "      <td>Male</td>\n",
       "      <td>2174</td>\n",
       "      <td>0</td>\n",
       "      <td>40</td>\n",
       "      <td>United-States</td>\n",
       "      <td>&lt;=50K</td>\n",
       "      <td>7</td>\n",
       "    </tr>\n",
       "    <tr>\n",
       "      <th>1</th>\n",
       "      <td>50</td>\n",
       "      <td>Self-emp-not-inc</td>\n",
       "      <td>83311</td>\n",
       "      <td>Bachelors</td>\n",
       "      <td>13</td>\n",
       "      <td>Married-civ-spouse</td>\n",
       "      <td>Exec-managerial</td>\n",
       "      <td>Husband</td>\n",
       "      <td>White</td>\n",
       "      <td>Male</td>\n",
       "      <td>0</td>\n",
       "      <td>0</td>\n",
       "      <td>13</td>\n",
       "      <td>United-States</td>\n",
       "      <td>&lt;=50K</td>\n",
       "      <td>14</td>\n",
       "    </tr>\n",
       "    <tr>\n",
       "      <th>2</th>\n",
       "      <td>38</td>\n",
       "      <td>Private</td>\n",
       "      <td>215646</td>\n",
       "      <td>HS-grad</td>\n",
       "      <td>9</td>\n",
       "      <td>Divorced</td>\n",
       "      <td>Handlers-cleaners</td>\n",
       "      <td>Not-in-family</td>\n",
       "      <td>White</td>\n",
       "      <td>Male</td>\n",
       "      <td>0</td>\n",
       "      <td>0</td>\n",
       "      <td>40</td>\n",
       "      <td>United-States</td>\n",
       "      <td>&lt;=50K</td>\n",
       "      <td>2</td>\n",
       "    </tr>\n",
       "    <tr>\n",
       "      <th>3</th>\n",
       "      <td>53</td>\n",
       "      <td>Private</td>\n",
       "      <td>234721</td>\n",
       "      <td>11th</td>\n",
       "      <td>7</td>\n",
       "      <td>Married-civ-spouse</td>\n",
       "      <td>Handlers-cleaners</td>\n",
       "      <td>Husband</td>\n",
       "      <td>Black</td>\n",
       "      <td>Male</td>\n",
       "      <td>0</td>\n",
       "      <td>0</td>\n",
       "      <td>40</td>\n",
       "      <td>United-States</td>\n",
       "      <td>&lt;=50K</td>\n",
       "      <td>2</td>\n",
       "    </tr>\n",
       "    <tr>\n",
       "      <th>4</th>\n",
       "      <td>28</td>\n",
       "      <td>Private</td>\n",
       "      <td>338409</td>\n",
       "      <td>Bachelors</td>\n",
       "      <td>13</td>\n",
       "      <td>Married-civ-spouse</td>\n",
       "      <td>Prof-specialty</td>\n",
       "      <td>Wife</td>\n",
       "      <td>Black</td>\n",
       "      <td>Female</td>\n",
       "      <td>0</td>\n",
       "      <td>0</td>\n",
       "      <td>40</td>\n",
       "      <td>Cuba</td>\n",
       "      <td>&lt;=50K</td>\n",
       "      <td>13</td>\n",
       "    </tr>\n",
       "  </tbody>\n",
       "</table>\n",
       "</div>"
      ],
      "text/plain": [
       "   age         workclass  fnlwgt  education  education-num  \\\n",
       "0   39         State-gov   77516  Bachelors             13   \n",
       "1   50  Self-emp-not-inc   83311  Bachelors             13   \n",
       "2   38           Private  215646    HS-grad              9   \n",
       "3   53           Private  234721       11th              7   \n",
       "4   28           Private  338409  Bachelors             13   \n",
       "\n",
       "       marital-status         occupation   relationship   race     sex  \\\n",
       "0       Never-married       Adm-clerical  Not-in-family  White    Male   \n",
       "1  Married-civ-spouse    Exec-managerial        Husband  White    Male   \n",
       "2            Divorced  Handlers-cleaners  Not-in-family  White    Male   \n",
       "3  Married-civ-spouse  Handlers-cleaners        Husband  Black    Male   \n",
       "4  Married-civ-spouse     Prof-specialty           Wife  Black  Female   \n",
       "\n",
       "   capital-gain  capital-loss  hours-per-week native-country income  \\\n",
       "0          2174             0              40  United-States  <=50K   \n",
       "1             0             0              13  United-States  <=50K   \n",
       "2             0             0              40  United-States  <=50K   \n",
       "3             0             0              40  United-States  <=50K   \n",
       "4             0             0              40           Cuba  <=50K   \n",
       "\n",
       "   occupation_num  \n",
       "0               7  \n",
       "1              14  \n",
       "2               2  \n",
       "3               2  \n",
       "4              13  "
      ]
     },
     "execution_count": 21,
     "metadata": {},
     "output_type": "execute_result"
    }
   ],
   "source": [
    "adults = adults.assign(occupation_num = occupations)\n",
    "adults.head()"
   ]
  },
  {
   "cell_type": "code",
   "execution_count": 22,
   "id": "42c39e10-5a10-4f1b-a38d-2dc05fcf7c6b",
   "metadata": {},
   "outputs": [
    {
     "name": "stderr",
     "output_type": "stream",
     "text": [
      "100%|██████████| 4000/4000 [03:53<00:00, 17.12it/s]"
     ]
    },
    {
     "name": "stdout",
     "output_type": "stream",
     "text": [
      "\n",
      "p = 0.6\n",
      "Confusion Matrix: \n",
      " [[3066    0]\n",
      " [ 934    0]]\n"
     ]
    },
    {
     "name": "stderr",
     "output_type": "stream",
     "text": [
      "\n"
     ]
    }
   ],
   "source": [
    "occupation_income = [ (adults['occupation_num'][i], adults['income'][i]) for i in range(10000)]\n",
    "\n",
    "p = 0.6\n",
    "n = len(occupation_income)\n",
    "rets = divideSets(p, occupation_income)\n",
    "list1 = rets[0] \n",
    "list2 = rets[1] \n",
    "\n",
    "data1 = [t[0] for t in list1]\n",
    "labels1 = [t[1] for t in list1]\n",
    "\n",
    "data2 = [t[0] for t in list2]\n",
    "labels2 = [t[1] for t in list2]\n",
    "\n",
    "k = 3\n",
    "knn = KNN(k)\n",
    "knn.train(data1, labels1)\n",
    "predictions_labels = []\n",
    "for i in tqdm.tqdm(range(len(data2))):\n",
    "    predictions_labels.append(knn.predict(data2[i]))\n",
    "\n",
    "predictions = [ (data2[i], predictions_labels[i]) for i in range(len(predictions_labels))]\n",
    "print(f'\\np = {p:1.1}')\n",
    "print('Confusion Matrix: \\n', confusion_matrix(labels2, predictions_labels))"
   ]
  },
  {
   "cell_type": "markdown",
   "id": "6f38e062-0947-4359-b11b-2834361d9ce4",
   "metadata": {},
   "source": [
    "(b) Are there other “labels” within the dataset that can be effectively learned by the kNN classifier?"
   ]
  },
  {
   "cell_type": "code",
   "execution_count": 23,
   "id": "610becf2-107b-4a1c-9da6-e594dd621ab2",
   "metadata": {},
   "outputs": [
    {
     "name": "stderr",
     "output_type": "stream",
     "text": [
      "100%|██████████| 400/400 [00:02<00:00, 178.10it/s]"
     ]
    },
    {
     "name": "stdout",
     "output_type": "stream",
     "text": [
      "\n",
      "p = 0.6\n",
      "Confusion Matrix: \n",
      " [[299  10]\n",
      " [ 89   2]]\n"
     ]
    },
    {
     "name": "stderr",
     "output_type": "stream",
     "text": [
      "\n"
     ]
    }
   ],
   "source": [
    "# HOURS-PER-WEEK PREDICTING INCOME\n",
    "hours = [(adults['hours-per-week'][i], adults['income'][i]) for i in range(1000)]\n",
    "\n",
    "\n",
    "p = 0.6\n",
    "n = len(adults['hours-per-week'])\n",
    "rets = divideSets(p, hours)\n",
    "list1 = rets[0] \n",
    "list2 = rets[1] \n",
    "\n",
    "data1 = [t[0] for t in list1]\n",
    "labels1 = [t[1] for t in list1]\n",
    "\n",
    "\n",
    "data2 = [t[0] for t in list2]\n",
    "labels2 = [t[1] for t in list2]\n",
    "\n",
    "k = 3\n",
    "knn = KNN(k)\n",
    "knn.train(data1, labels1)\n",
    "predictions_labels = []\n",
    "for i in tqdm.tqdm(range(len(data2))):\n",
    "    predictions_labels.append(knn.predict(data2[i]))\n",
    "\n",
    "predictions = [ (data2[i], predictions_labels[i]) for i in range(len(predictions_labels))]\n",
    "print(f'\\np = {p:1.1}')\n",
    "print('Confusion Matrix: \\n', confusion_matrix(labels2, predictions_labels))"
   ]
  },
  {
   "cell_type": "code",
   "execution_count": null,
   "id": "0a5f14ed-1e29-4f61-9c6f-ba2f4e93a6e6",
   "metadata": {},
   "outputs": [],
   "source": []
  }
 ],
 "metadata": {
  "kernelspec": {
   "display_name": "Python 3",
   "language": "python",
   "name": "python3"
  },
  "language_info": {
   "codemirror_mode": {
    "name": "ipython",
    "version": 3
   },
   "file_extension": ".py",
   "mimetype": "text/x-python",
   "name": "python",
   "nbconvert_exporter": "python",
   "pygments_lexer": "ipython3",
   "version": "3.8.8"
  }
 },
 "nbformat": 4,
 "nbformat_minor": 5
}
