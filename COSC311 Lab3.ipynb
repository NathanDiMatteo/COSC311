{
 "cells": [
  {
   "cell_type": "code",
   "execution_count": 19,
   "id": "3501c92e-f084-4a8b-8bcb-68d5adde81fc",
   "metadata": {},
   "outputs": [],
   "source": [
    "import numpy as np\n",
    "import pandas as pd \n",
    "from matplotlib import pyplot as plt\n",
    "import scipy.stats as st\n",
    "import math"
   ]
  },
  {
   "cell_type": "code",
   "execution_count": 2,
   "id": "3b338845-854e-4a3b-92f1-10045a682902",
   "metadata": {},
   "outputs": [
    {
     "data": {
      "text/html": [
       "<div>\n",
       "<style scoped>\n",
       "    .dataframe tbody tr th:only-of-type {\n",
       "        vertical-align: middle;\n",
       "    }\n",
       "\n",
       "    .dataframe tbody tr th {\n",
       "        vertical-align: top;\n",
       "    }\n",
       "\n",
       "    .dataframe thead th {\n",
       "        text-align: right;\n",
       "    }\n",
       "</style>\n",
       "<table border=\"1\" class=\"dataframe\">\n",
       "  <thead>\n",
       "    <tr style=\"text-align: right;\">\n",
       "      <th></th>\n",
       "      <th>Sepal Length</th>\n",
       "      <th>Sepal Width</th>\n",
       "      <th>Petal Length</th>\n",
       "      <th>Petal Width</th>\n",
       "      <th>Class</th>\n",
       "    </tr>\n",
       "  </thead>\n",
       "  <tbody>\n",
       "    <tr>\n",
       "      <th>0</th>\n",
       "      <td>5.1</td>\n",
       "      <td>3.5</td>\n",
       "      <td>1.4</td>\n",
       "      <td>0.2</td>\n",
       "      <td>Iris-setosa</td>\n",
       "    </tr>\n",
       "    <tr>\n",
       "      <th>1</th>\n",
       "      <td>4.9</td>\n",
       "      <td>3.0</td>\n",
       "      <td>1.4</td>\n",
       "      <td>0.2</td>\n",
       "      <td>Iris-setosa</td>\n",
       "    </tr>\n",
       "    <tr>\n",
       "      <th>2</th>\n",
       "      <td>4.7</td>\n",
       "      <td>3.2</td>\n",
       "      <td>1.3</td>\n",
       "      <td>0.2</td>\n",
       "      <td>Iris-setosa</td>\n",
       "    </tr>\n",
       "    <tr>\n",
       "      <th>3</th>\n",
       "      <td>4.6</td>\n",
       "      <td>3.1</td>\n",
       "      <td>1.5</td>\n",
       "      <td>0.2</td>\n",
       "      <td>Iris-setosa</td>\n",
       "    </tr>\n",
       "    <tr>\n",
       "      <th>4</th>\n",
       "      <td>5.0</td>\n",
       "      <td>3.6</td>\n",
       "      <td>1.4</td>\n",
       "      <td>0.2</td>\n",
       "      <td>Iris-setosa</td>\n",
       "    </tr>\n",
       "    <tr>\n",
       "      <th>...</th>\n",
       "      <td>...</td>\n",
       "      <td>...</td>\n",
       "      <td>...</td>\n",
       "      <td>...</td>\n",
       "      <td>...</td>\n",
       "    </tr>\n",
       "    <tr>\n",
       "      <th>145</th>\n",
       "      <td>6.7</td>\n",
       "      <td>3.0</td>\n",
       "      <td>5.2</td>\n",
       "      <td>2.3</td>\n",
       "      <td>Iris-virginica</td>\n",
       "    </tr>\n",
       "    <tr>\n",
       "      <th>146</th>\n",
       "      <td>6.3</td>\n",
       "      <td>2.5</td>\n",
       "      <td>5.0</td>\n",
       "      <td>1.9</td>\n",
       "      <td>Iris-virginica</td>\n",
       "    </tr>\n",
       "    <tr>\n",
       "      <th>147</th>\n",
       "      <td>6.5</td>\n",
       "      <td>3.0</td>\n",
       "      <td>5.2</td>\n",
       "      <td>2.0</td>\n",
       "      <td>Iris-virginica</td>\n",
       "    </tr>\n",
       "    <tr>\n",
       "      <th>148</th>\n",
       "      <td>6.2</td>\n",
       "      <td>3.4</td>\n",
       "      <td>5.4</td>\n",
       "      <td>2.3</td>\n",
       "      <td>Iris-virginica</td>\n",
       "    </tr>\n",
       "    <tr>\n",
       "      <th>149</th>\n",
       "      <td>5.9</td>\n",
       "      <td>3.0</td>\n",
       "      <td>5.1</td>\n",
       "      <td>1.8</td>\n",
       "      <td>Iris-virginica</td>\n",
       "    </tr>\n",
       "  </tbody>\n",
       "</table>\n",
       "<p>150 rows × 5 columns</p>\n",
       "</div>"
      ],
      "text/plain": [
       "     Sepal Length  Sepal Width  Petal Length  Petal Width           Class\n",
       "0             5.1          3.5           1.4          0.2     Iris-setosa\n",
       "1             4.9          3.0           1.4          0.2     Iris-setosa\n",
       "2             4.7          3.2           1.3          0.2     Iris-setosa\n",
       "3             4.6          3.1           1.5          0.2     Iris-setosa\n",
       "4             5.0          3.6           1.4          0.2     Iris-setosa\n",
       "..            ...          ...           ...          ...             ...\n",
       "145           6.7          3.0           5.2          2.3  Iris-virginica\n",
       "146           6.3          2.5           5.0          1.9  Iris-virginica\n",
       "147           6.5          3.0           5.2          2.0  Iris-virginica\n",
       "148           6.2          3.4           5.4          2.3  Iris-virginica\n",
       "149           5.9          3.0           5.1          1.8  Iris-virginica\n",
       "\n",
       "[150 rows x 5 columns]"
      ]
     },
     "execution_count": 2,
     "metadata": {},
     "output_type": "execute_result"
    }
   ],
   "source": [
    "iris = pd.read_csv('../Data/iris.data', header=None, skipinitialspace=True,\n",
    "    names = ['Sepal Length', 'Sepal Width', 'Petal Length', 'Petal Width', 'Class']\n",
    "    )\n",
    "iris"
   ]
  },
  {
   "cell_type": "markdown",
   "id": "726c15c0-fd41-4c4f-8838-e40febc4e151",
   "metadata": {},
   "source": [
    "## 4)Among the sepal/petal length/width measurements, we can define six different pairwise comparisons(sepal length vs petal width, sepal length vs sepal width, etc.); show these two parameters together in (six) different scatter plots, where each class is shown by a different color and shape marker.\n",
    "\n",
    "## a) What is the correlation coefficient for each pair of measurements when class is disregarded?\n",
    "\n",
    "## b) What is the correlation coefficient for each pair of measurements when taking into account only measurements within the same class. I.e. what is the correlation between sepal length and width overall, and what is the correlation coefficient between sepal length and width among the Setosa\n",
    "class, Versicolour class, and Virginica class?"
   ]
  },
  {
   "cell_type": "code",
   "execution_count": 3,
   "id": "5c52c29e-6e44-444b-a975-40d87347767d",
   "metadata": {},
   "outputs": [],
   "source": [
    "# CLASS OF EACH FLOWER\n",
    "setosa = iris[iris['Class'] == 'Iris-setosa']\n",
    "virginica = iris[iris['Class'] == 'Iris-virginica']\n",
    "versicolor = iris[iris['Class'] == 'Iris-versicolor']"
   ]
  },
  {
   "cell_type": "code",
   "execution_count": 4,
   "id": "2f58056f-7577-4a9b-9dcb-00d5f116b470",
   "metadata": {},
   "outputs": [
    {
     "name": "stdout",
     "output_type": "stream",
     "text": [
      "Correlation Coefficient:\n",
      "[[ 1.         -0.10936925]\n",
      " [-0.10936925  1.        ]]\n",
      "=======================\n",
      "Setosa Class Correlation\n",
      "[[1.         0.74678037]\n",
      " [0.74678037 1.        ]]\n",
      "=======================\n",
      "Virginica Class Correlation\n",
      "[[1.         0.45722782]\n",
      " [0.45722782 1.        ]]\n",
      "=======================\n",
      "Versicolor Class Correlation\n",
      "[[1.         0.52591072]\n",
      " [0.52591072 1.        ]]\n"
     ]
    },
    {
     "data": {
      "image/png": "[encoded data removed]",
      "text/plain": [
       "<Figure size 432x288 with 1 Axes>"
      ]
     },
     "metadata": {
      "needs_background": "light"
     },
     "output_type": "display_data"
    }
   ],
   "source": [
    "# SEPAL LENGTH vs WIDTH \n",
    "plt.scatter(x=setosa['Sepal Length'], y=setosa['Sepal Width'], color='b', marker = \">\")\n",
    "plt.scatter(x=virginica['Sepal Length'], y=virginica['Sepal Width'], color='r', marker = \"*\")\n",
    "plt.scatter(x=versicolor['Sepal Length'], y=versicolor['Sepal Width'], color='purple', marker = \",\")\n",
    "plt.legend(['setosa', 'viginica', 'versicolor'])\n",
    "plt.title(\"Sepal Length vs Width\")\n",
    "\n",
    "# CORRELATION COEFFICIENT\n",
    "\n",
    "print('Correlation Coefficient:')\n",
    "c = np.corrcoef(iris['Sepal Length'], iris['Sepal Width'])\n",
    "print(c)\n",
    "\n",
    "print('=======================')\n",
    "# CORRELATION COEFFICIENT FOR EACH FLOWER CLASS FOR SEPAL LENGTH vs WIDTH\n",
    "\n",
    "s = np.corrcoef(setosa['Sepal Length'], setosa['Sepal Width'])\n",
    "\n",
    "v = np.corrcoef(virginica['Sepal Length'], virginica['Sepal Width'])\n",
    "\n",
    "vc = np.corrcoef(versicolor['Sepal Length'], versicolor['Sepal Width'])\n",
    "\n",
    "print('Setosa Class Correlation')\n",
    "print(s)\n",
    "\n",
    "print('=======================')\n",
    "\n",
    "print('Virginica Class Correlation')\n",
    "print(v)\n",
    "\n",
    "print('=======================')\n",
    "\n",
    "print('Versicolor Class Correlation')\n",
    "print(vc)\n"
   ]
  },
  {
   "cell_type": "code",
   "execution_count": 5,
   "id": "4bddf43b-8fd3-4e52-a7a6-a7c35d73124e",
   "metadata": {},
   "outputs": [
    {
     "name": "stdout",
     "output_type": "stream",
     "text": [
      "Correlation Coefficient:\n",
      "[[1.        0.9627571]\n",
      " [0.9627571 1.       ]]\n",
      "=======================\n",
      "Setosa Class Correlation\n",
      "[[1.         0.30630821]\n",
      " [0.30630821 1.        ]]\n",
      "=======================\n",
      "Virginica Class Correlation\n",
      "[[1.         0.32210822]\n",
      " [0.32210822 1.        ]]\n",
      "=======================\n",
      "Versicolor Class Correlation\n",
      "[[1.         0.78666809]\n",
      " [0.78666809 1.        ]]\n"
     ]
    },
    {
     "data": {
      "image/png": "[encoded data removed]",
      "text/plain": [
       "<Figure size 432x288 with 1 Axes>"
      ]
     },
     "metadata": {
      "needs_background": "light"
     },
     "output_type": "display_data"
    }
   ],
   "source": [
    "# PETAL LENGTH vs WIDTH \n",
    "\n",
    "plt.scatter(x=setosa['Petal Length'], y=setosa['Petal Width'], color='b', marker = \">\")\n",
    "plt.scatter(x=virginica['Petal Length'], y=virginica['Petal Width'], color='r',  marker = \"*\")\n",
    "plt.scatter(x=versicolor['Petal Length'], y=versicolor['Petal Width'], color='purple', marker = \",\")\n",
    "plt.legend(['setosa', 'viginica', 'versicolor'])\n",
    "plt.title(\"Petal Length vs Width\")\n",
    "\n",
    "# CORRELATION COEFFICIENT\n",
    "\n",
    "print('Correlation Coefficient:')\n",
    "c = np.corrcoef(iris['Petal Length'], iris['Petal Width'])\n",
    "print(c)\n",
    "\n",
    "print('=======================')\n",
    "# CORRELATION COEFFICIENT FOR EACH FLOWER CLASS FOR SEPAL LENGTH vs WIDTH\n",
    "\n",
    "s = np.corrcoef(setosa['Petal Length'], setosa['Petal Width'])\n",
    "\n",
    "v = np.corrcoef(virginica['Petal Length'], virginica['Petal Width'])\n",
    "\n",
    "vc = np.corrcoef(versicolor['Petal Length'], versicolor['Petal Width'])\n",
    "\n",
    "print('Setosa Class Correlation')\n",
    "print(s)\n",
    "\n",
    "print('=======================')\n",
    "\n",
    "print('Virginica Class Correlation')\n",
    "print(v)\n",
    "\n",
    "print('=======================')\n",
    "\n",
    "print('Versicolor Class Correlation')\n",
    "print(vc)\n"
   ]
  },
  {
   "cell_type": "code",
   "execution_count": 6,
   "id": "0d28e7d2-343e-4c5e-b753-f918617d1a84",
   "metadata": {},
   "outputs": [
    {
     "name": "stdout",
     "output_type": "stream",
     "text": [
      "Correlation Coefficient:\n",
      "[[1.         0.87175416]\n",
      " [0.87175416 1.        ]]\n",
      "=======================\n",
      "Setosa Class Correlation\n",
      "[[1.         0.26387409]\n",
      " [0.26387409 1.        ]]\n",
      "=======================\n",
      "Virginica Class Correlation\n",
      "[[1.         0.86422473]\n",
      " [0.86422473 1.        ]]\n",
      "=======================\n",
      "Versicolor Class Correlation\n",
      "[[1.         0.75404896]\n",
      " [0.75404896 1.        ]]\n"
     ]
    },
    {
     "data": {
      "image/png": "[encoded data removed]",
      "text/plain": [
       "<Figure size 432x288 with 1 Axes>"
      ]
     },
     "metadata": {
      "needs_background": "light"
     },
     "output_type": "display_data"
    }
   ],
   "source": [
    "# SEPAL LENGTH vs PETAL LENGTH \n",
    "plt.scatter(x=setosa['Sepal Length'], y=setosa['Petal Length'], color='b', marker = \">\")\n",
    "plt.scatter(x=virginica['Sepal Length'], y=virginica['Petal Length'], color='r',  marker = \"*\")\n",
    "plt.scatter(x=versicolor['Sepal Length'], y=versicolor['Petal Length'], color='purple', marker = \",\")\n",
    "plt.legend(['setosa', 'viginica', 'versicolor'])\n",
    "plt.title(\"Sepal Length vs Petal Length\")\n",
    "\n",
    "# CORRELATION COEFFICIENT\n",
    "\n",
    "print('Correlation Coefficient:')\n",
    "c = np.corrcoef(iris['Sepal Length'], iris['Petal Length'])\n",
    "print(c)\n",
    "\n",
    "print('=======================')\n",
    "# CORRELATION COEFFICIENT FOR EACH FLOWER CLASS FOR SEPAL LENGTH vs WIDTH\n",
    "\n",
    "s = np.corrcoef(setosa['Sepal Length'], setosa['Petal Length'])\n",
    "\n",
    "v = np.corrcoef(virginica['Sepal Length'], virginica['Petal Length'])\n",
    "\n",
    "vc = np.corrcoef(versicolor['Sepal Length'], versicolor['Petal Length'])\n",
    "\n",
    "print('Setosa Class Correlation')\n",
    "print(s)\n",
    "\n",
    "print('=======================')\n",
    "\n",
    "print('Virginica Class Correlation')\n",
    "print(v)\n",
    "\n",
    "print('=======================')\n",
    "\n",
    "print('Versicolor Class Correlation')\n",
    "print(vc)\n"
   ]
  },
  {
   "cell_type": "code",
   "execution_count": 7,
   "id": "de8335df-a70c-4dc4-b028-e73b41cce51b",
   "metadata": {},
   "outputs": [
    {
     "name": "stdout",
     "output_type": "stream",
     "text": [
      "Correlation Coefficient:\n",
      "[[ 1.         -0.35654409]\n",
      " [-0.35654409  1.        ]]\n",
      "=======================\n",
      "Setosa Class Correlation\n",
      "[[1.         0.27997289]\n",
      " [0.27997289 1.        ]]\n",
      "=======================\n",
      "Virginica Class Correlation\n",
      "[[1.         0.53772803]\n",
      " [0.53772803 1.        ]]\n",
      "=======================\n",
      "Versicolor Class Correlation\n",
      "[[1.         0.66399872]\n",
      " [0.66399872 1.        ]]\n"
     ]
    },
    {
     "data": {
      "image/png": "[encoded data removed]",
      "text/plain": [
       "<Figure size 432x288 with 1 Axes>"
      ]
     },
     "metadata": {
      "needs_background": "light"
     },
     "output_type": "display_data"
    }
   ],
   "source": [
    "# SEPAL WIDTH vs PETAL WIDTH\n",
    "plt.scatter(x=setosa['Sepal Width'], y=setosa['Petal Width'], color='b', marker = \">\")\n",
    "plt.scatter(x=virginica['Sepal Width'], y=virginica['Petal Width'], color='r',  marker = \"*\")\n",
    "plt.scatter(x=versicolor['Sepal Width'], y=versicolor['Petal Width'], color='purple', marker = \",\")\n",
    "plt.legend(['setosa', 'viginica', 'versicolor'])\n",
    "plt.title(\"Sepal Width vs Petal Width\")\n",
    "\n",
    "# CORRELATION COEFFICIENT\n",
    "\n",
    "print('Correlation Coefficient:')\n",
    "c = np.corrcoef(iris['Sepal Width'], iris['Petal Width'])\n",
    "print(c)\n",
    "\n",
    "print('=======================')\n",
    "# CORRELATION COEFFICIENT FOR EACH FLOWER CLASS FOR SEPAL LENGTH vs WIDTH\n",
    "\n",
    "s = np.corrcoef(setosa['Sepal Width'], setosa['Petal Width'])\n",
    "\n",
    "v = np.corrcoef(virginica['Sepal Width'], virginica['Petal Width'])\n",
    "\n",
    "vc = np.corrcoef(versicolor['Sepal Width'], versicolor['Petal Width'])\n",
    "\n",
    "print('Setosa Class Correlation')\n",
    "print(s)\n",
    "\n",
    "print('=======================')\n",
    "\n",
    "print('Virginica Class Correlation')\n",
    "print(v)\n",
    "\n",
    "print('=======================')\n",
    "\n",
    "print('Versicolor Class Correlation')\n",
    "print(vc)\n"
   ]
  },
  {
   "cell_type": "code",
   "execution_count": 8,
   "id": "6dedd50c-6951-4e56-b61f-1e02dc0219a1",
   "metadata": {},
   "outputs": [
    {
     "name": "stdout",
     "output_type": "stream",
     "text": [
      "Correlation Coefficient:\n",
      "[[1.         0.81795363]\n",
      " [0.81795363 1.        ]]\n",
      "=======================\n",
      "Setosa Class Correlation\n",
      "[[1.         0.27909157]\n",
      " [0.27909157 1.        ]]\n",
      "=======================\n",
      "Virginica Class Correlation\n",
      "[[1.         0.28110771]\n",
      " [0.28110771 1.        ]]\n",
      "=======================\n",
      "Versicolor Class Correlation\n",
      "[[1.         0.54646107]\n",
      " [0.54646107 1.        ]]\n"
     ]
    },
    {
     "data": {
      "image/png": "[encoded data removed]",
      "text/plain": [
       "<Figure size 432x288 with 1 Axes>"
      ]
     },
     "metadata": {
      "needs_background": "light"
     },
     "output_type": "display_data"
    }
   ],
   "source": [
    "# SEPAL LENGTH vs PETAL WIDTH \n",
    "plt.scatter(x=setosa['Sepal Length'], y=setosa['Petal Width'], color='b', marker = \">\")\n",
    "plt.scatter(x=virginica['Sepal Length'], y=virginica['Petal Width'], color='r',  marker = \"*\")\n",
    "plt.scatter(x=versicolor['Sepal Length'], y=versicolor['Petal Width'], color='purple', marker = \",\")\n",
    "plt.legend(['setosa', 'viginica', 'versicolor'])\n",
    "plt.title(\"Sepal Length vs Petal Width\")\n",
    "\n",
    "# CORRELATION COEFFICIENT\n",
    "\n",
    "print('Correlation Coefficient:')\n",
    "c = np.corrcoef(iris['Sepal Length'], iris['Petal Width'])\n",
    "print(c)\n",
    "\n",
    "print('=======================')\n",
    "# CORRELATION COEFFICIENT FOR EACH FLOWER CLASS FOR SEPAL LENGTH vs WIDTH\n",
    "\n",
    "s = np.corrcoef(setosa['Sepal Length'], setosa['Petal Width'])\n",
    "\n",
    "v = np.corrcoef(virginica['Sepal Length'], virginica['Petal Width'])\n",
    "\n",
    "vc = np.corrcoef(versicolor['Sepal Length'], versicolor['Petal Width'])\n",
    "\n",
    "print('Setosa Class Correlation')\n",
    "print(s)\n",
    "\n",
    "print('=======================')\n",
    "\n",
    "print('Virginica Class Correlation')\n",
    "print(v)\n",
    "\n",
    "print('=======================')\n",
    "\n",
    "print('Versicolor Class Correlation')\n",
    "print(vc)\n"
   ]
  },
  {
   "cell_type": "code",
   "execution_count": 9,
   "id": "c9c757c6-1bb7-4201-baa3-2c920a420011",
   "metadata": {},
   "outputs": [
    {
     "name": "stdout",
     "output_type": "stream",
     "text": [
      "Correlation Coefficient:\n",
      "[[ 1.        -0.4205161]\n",
      " [-0.4205161  1.       ]]\n",
      "=======================\n",
      "Setosa Class Correlation\n",
      "[[1.         0.17669463]\n",
      " [0.17669463 1.        ]]\n",
      "=======================\n",
      "Virginica Class Correlation\n",
      "[[1.         0.40104458]\n",
      " [0.40104458 1.        ]]\n",
      "=======================\n",
      "Versicolor Class Correlation\n",
      "[[1.         0.56052209]\n",
      " [0.56052209 1.        ]]\n"
     ]
    },
    {
     "data": {
      "image/png": "[encoded data removed]",
      "text/plain": [
       "<Figure size 432x288 with 1 Axes>"
      ]
     },
     "metadata": {
      "needs_background": "light"
     },
     "output_type": "display_data"
    }
   ],
   "source": [
    "# PETAL LENGTH vs SEPAL LENGTH \n",
    "plt.scatter(x=setosa['Petal Length'], y=setosa['Sepal Width'], color='b', marker = \">\")\n",
    "plt.scatter(x=virginica['Petal Length'], y=virginica['Sepal Width'], color='r',  marker = \"*\")\n",
    "plt.scatter(x=versicolor['Petal Length'], y=versicolor['Sepal Width'], color='purple', marker = \",\")\n",
    "plt.legend(['setosa', 'viginica', 'versicolor'])\n",
    "plt.title(\"Pedal Length vs Sepal Width\")\n",
    "\n",
    "# CORRELATION COEFFICIENT\n",
    "\n",
    "print('Correlation Coefficient:')\n",
    "c = np.corrcoef(iris['Petal Length'], iris['Sepal Width'])\n",
    "print(c)\n",
    "\n",
    "print('=======================')\n",
    "# CORRELATION COEFFICIENT FOR EACH FLOWER CLASS FOR SEPAL LENGTH vs WIDTH\n",
    "\n",
    "s = np.corrcoef(setosa['Petal Length'], setosa['Sepal Width'],)\n",
    "\n",
    "v = np.corrcoef(virginica['Petal Length'], virginica['Sepal Width'])\n",
    "\n",
    "vc = np.corrcoef(versicolor['Petal Length'], versicolor['Sepal Width'])\n",
    "\n",
    "print('Setosa Class Correlation')\n",
    "print(s)\n",
    "\n",
    "print('=======================')\n",
    "\n",
    "print('Virginica Class Correlation')\n",
    "print(v)\n",
    "\n",
    "print('=======================')\n",
    "\n",
    "print('Versicolor Class Correlation')\n",
    "print(vc)\n"
   ]
  },
  {
   "cell_type": "markdown",
   "id": "ab29ec05-1fa3-46d8-9be6-a0f12e3f1c25",
   "metadata": {},
   "source": [
    "## 5)For each of the four numerical categories, compute the mean with a 95% confidence interval and show them in a bar chart."
   ]
  },
  {
   "cell_type": "code",
   "execution_count": 10,
   "id": "b60cad73-8f23-4b83-a5dc-a35c5bc1a0fc",
   "metadata": {},
   "outputs": [
    {
     "name": "stdout",
     "output_type": "stream",
     "text": [
      " The mean of Sepal Length is about 5.843333333333334 with a 95% confidence interval of (5.709732481507366, 5.976934185159301)\n",
      " ----------------------------------------------------------------------------------------------------------------------------\n",
      " The mean of Sepal Width is about 3.0540000000000003 with a 95% confidence interval of (2.9840435467800845, 3.123956453219916)\n",
      " ----------------------------------------------------------------------------------------------------------------------------\n",
      " The mean of Petal Length is about 3.758666666666666 with a 95% confidence interval of (3.473993663967714, 4.0433396693656185)\n",
      " ----------------------------------------------------------------------------------------------------------------------------\n",
      " The mean of Petal Width is about 1.1986666666666668 with a 95% confidence interval of (1.075537701809291, 1.3217956315240424)\n"
     ]
    }
   ],
   "source": [
    "# MEAN AND CONFIDENCE INTERVAL\n",
    "\n",
    "sl = iris['Sepal Length']\n",
    "sl_mean = iris['Sepal Length'].mean()\n",
    "sl_confident = st.t.interval(alpha = 0.95, df = len(sl) - 1, loc = np.mean(sl), scale = st.sem(sl))\n",
    "print(f' The mean of Sepal Length is about {sl_mean} with a 95% confidence interval of {sl_confident}')\n",
    "\n",
    "print(' ----------------------------------------------------------------------------------------------------------------------------')\n",
    "\n",
    "sw = iris['Sepal Width']\n",
    "sw_mean = iris['Sepal Width'].mean()\n",
    "sw_confident = st.t.interval(alpha = 0.95, df = len(sw) - 1, loc = np.mean(sw), scale = st.sem(sw))\n",
    "print(f' The mean of Sepal Width is about {sw_mean} with a 95% confidence interval of {sw_confident}')\n",
    "\n",
    "print(' ----------------------------------------------------------------------------------------------------------------------------')\n",
    "\n",
    "pl = iris['Petal Length']\n",
    "pl_mean = iris['Petal Length'].mean()\n",
    "pl_confident = st.t.interval(alpha = 0.95, df = len(pl) - 1, loc = np.mean(pl), scale = st.sem(pl))\n",
    "print(f' The mean of Petal Length is about {pl_mean} with a 95% confidence interval of {pl_confident}')\n",
    "\n",
    "print(' ----------------------------------------------------------------------------------------------------------------------------')\n",
    "\n",
    "pw = iris['Petal Width']\n",
    "pw_mean = iris['Petal Width'].mean()\n",
    "pw_confident = st.t.interval(alpha = 0.95, df = len(pw) - 1, loc = np.mean(pw), scale = st.sem(pw))\n",
    "print(f' The mean of Petal Width is about {pw_mean} with a 95% confidence interval of {pw_confident}')"
   ]
  },
  {
   "cell_type": "code",
   "execution_count": 11,
   "id": "5d6a841f-c5a1-4bee-af26-75dbc6f7ef10",
   "metadata": {},
   "outputs": [
    {
     "name": "stdout",
     "output_type": "stream",
     "text": [
      "0.1440643240210085\n",
      "0.062311813629700424\n",
      "0.0676113162275986\n",
      "0.03540282727369267\n"
     ]
    }
   ],
   "source": [
    "# STANDARD ERROR FOR EACH\n",
    "se_pl = np.std(iris['Petal Length'], ddof=1) / np.sqrt(np.size(iris['Petal Length']))\n",
    "print(se_pl)\n",
    "se_pw = np.std(iris['Petal Width'], ddof=1) / np.sqrt(np.size(iris['Petal Width']))\n",
    "print(se_pw)\n",
    "se_sl = np.std(iris['Sepal Length'], ddof=1) / np.sqrt(np.size(iris['Sepal Length']))\n",
    "print(se_sl)\n",
    "se_sw = np.std(iris['Sepal Width'], ddof=1) / np.sqrt(np.size(iris['Sepal Width']))\n",
    "print(se_sw)"
   ]
  },
  {
   "cell_type": "code",
   "execution_count": 12,
   "id": "e1b3493f-7810-42ca-a60e-4b8f8bb09a40",
   "metadata": {},
   "outputs": [
    {
     "data": {
      "text/plain": [
       "Text(0.5, 1.0, 'Mean of each flower with 95% Confidence Interval')"
      ]
     },
     "execution_count": 12,
     "metadata": {},
     "output_type": "execute_result"
    },
    {
     "data": {
      "image/png": "[encoded data removed]",
      "text/plain": [
       "<Figure size 576x576 with 1 Axes>"
      ]
     },
     "metadata": {
      "needs_background": "light"
     },
     "output_type": "display_data"
    }
   ],
   "source": [
    "# BAR PLOT OF CONFIDENCE INTERVALS\n",
    "x = ('Sepal Length', 'Sepal Width', 'Petal Length', 'Petal Width')\n",
    "y = (sl_mean, sw_mean, pl_mean, pw_mean)\n",
    "se = (se_sl, se_sw, se_pl, se_pw)\n",
    "\n",
    "plt.rcParams['figure.figsize'] = [8, 8]\n",
    "plt.bar(x,y, yerr = se, capsize = 10, width = 0.7)\n",
    "plt.title('Mean of each flower with 95% Confidence Interval')"
   ]
  },
  {
   "cell_type": "markdown",
   "id": "de88d634-dc80-46bc-9a43-7bf2b012d956",
   "metadata": {},
   "source": [
    "## 6)Next, compute the mean of sepal and petal measurements with 95% confidence intervals, but this time separated by each of the three classes (so you will have a total of 12 bars and intervals)."
   ]
  },
  {
   "cell_type": "code",
   "execution_count": 13,
   "id": "2450bb94-be08-4545-be33-c7c635ec8616",
   "metadata": {},
   "outputs": [],
   "source": [
    "# SEPAL LENGTH\n",
    "s_sl = setosa['Sepal Length'].mean()\n",
    "s_sl_confident = st.t.interval(alpha = 0.95, df = len(setosa['Sepal Length']) - 1, loc = np.mean(setosa['Sepal Length']), scale = st.sem(setosa['Sepal Length']))\n",
    "s_se_sl = st.sem(setosa['Sepal Length'])\n",
    "\n",
    "v_sl = virginica['Sepal Length'].mean()\n",
    "v_sl_confident = st.t.interval(alpha = 0.95, df = len(virginica['Sepal Length']) - 1, loc = np.mean(virginica['Sepal Length']), scale = st.sem(virginica['Sepal Length']))\n",
    "v_se_sl = st.sem(virginica['Sepal Length'])\n",
    "\n",
    "vc_sl = versicolor['Sepal Length'].mean()\n",
    "vc_sl_confident = st.t.interval(alpha = 0.95, df = len(versicolor['Sepal Length']) - 1, loc = np.mean(versicolor['Sepal Length']), scale = st.sem(versicolor['Sepal Length']))\n",
    "vc_se_sl = st.sem(versicolor['Sepal Length'])\n",
    "\n",
    "# SEPAL WIDTH\n",
    "s_sw = setosa['Sepal Width'].mean()\n",
    "s_sw_confident = st.t.interval(alpha = 0.95, df = len(setosa['Sepal Width']) - 1, loc = np.mean(setosa['Sepal Width']), scale = st.sem(setosa['Sepal Width']))\n",
    "s_se_sw = st.sem(setosa['Sepal Width'])\n",
    "\n",
    "v_sw = virginica['Sepal Width'].mean()\n",
    "v_sw_confident = st.t.interval(alpha = 0.95, df = len(virginica['Sepal Width']) - 1, loc = np.mean(virginica['Sepal Width']), scale = st.sem(virginica['Sepal Width']))\n",
    "v_se_sw = st.sem(virginica['Sepal Width'])\n",
    "\n",
    "vc_sw = versicolor['Sepal Width'].mean()\n",
    "vc_sw_confident = st.t.interval(alpha = 0.95, df = len(versicolor['Sepal Width']) - 1, loc = np.mean(versicolor['Sepal Width']), scale = st.sem(versicolor['Sepal Width']))\n",
    "vc_se_sw = st.sem(versicolor['Sepal Width'])\n",
    "\n",
    "# PETAL LENGTH\n",
    "s_pl = setosa['Petal Length'].mean()\n",
    "s_pl_confident = st.t.interval(alpha = 0.95, df = len(setosa['Petal Length']) - 1, loc = np.mean(setosa['Petal Length']), scale = st.sem(setosa['Petal Length']))\n",
    "s_se_pl = st.sem(setosa['Sepal Length'])\n",
    "\n",
    "v_pl = virginica['Petal Length'].mean()\n",
    "v_pl_confident = st.t.interval(alpha = 0.95, df = len(virginica['Petal Length']) - 1, loc = np.mean(virginica['Petal Length']), scale = st.sem(virginica['Petal Length']))\n",
    "v_se_pl = st.sem(virginica['Sepal Length'])\n",
    "\n",
    "vc_pl = versicolor['Petal Length'].mean()\n",
    "vc_pl_confident = st.t.interval(alpha = 0.95, df = len(versicolor['Petal Length']) - 1, loc = np.mean(versicolor['Petal Length']), scale = st.sem(versicolor['Petal Length']))\n",
    "vc_se_pl = st.sem(versicolor['Petal Length'])\n",
    "\n",
    "# PETAL WIDTH\n",
    "s_pw = setosa['Petal Width'].mean()\n",
    "s_pw_confident = st.t.interval(alpha = 0.95, df = len(setosa['Petal Width']) - 1, loc = np.mean(setosa['Petal Width']), scale = st.sem(setosa['Petal Width']))\n",
    "s_se_pw = st.sem(setosa['Petal Width'])\n",
    "\n",
    "v_pw = virginica['Petal Width'].mean()\n",
    "v_pw_confident = st.t.interval(alpha = 0.95, df = len(virginica['Petal Width']) - 1, loc = np.mean(virginica['Petal Width']), scale = st.sem(virginica['Petal Width']))\n",
    "v_se_pw = st.sem(virginica['Petal Width'])\n",
    "\n",
    "vc_pw = versicolor['Petal Width'].mean()\n",
    "vc_pw_confident = st.t.interval(alpha = 0.95, df = len(versicolor['Petal Width']) - 1, loc = np.mean(versicolor['Petal Width']), scale = st.sem(versicolor['Petal Width']))\n",
    "vc_se_pw = st.sem(versicolor['Petal Width'])"
   ]
  },
  {
   "cell_type": "code",
   "execution_count": 14,
   "id": "35eccede-5889-4c84-b490-c59aaa22f4b2",
   "metadata": {},
   "outputs": [
    {
     "data": {
      "text/plain": [
       "Text(0.5, 1.0, 'Mean and Confidence Interval of each class of FLower')"
      ]
     },
     "execution_count": 14,
     "metadata": {},
     "output_type": "execute_result"
    },
    {
     "data": {
      "image/png": "[encoded data removed]",
      "text/plain": [
       "<Figure size 720x792 with 1 Axes>"
      ]
     },
     "metadata": {
      "needs_background": "light"
     },
     "output_type": "display_data"
    }
   ],
   "source": [
    "# BOX PLOT OF CONFIDENCE INTERVALS FOR ALL CLASSES\n",
    "x = ('S-SL','S-SW','S-PL' ,'S-PW', 'V-SL','V-SW','V-PL' ,'V-PW', 'VC-SL','VC-SW','VC-PL' ,'VC-PW')\n",
    "y = (s_sl, s_sw, s_pl, s_pw, v_sl, v_sw, v_pl, v_pw, vc_sl, vc_sw, vc_pl, vc_pw)\n",
    "se = (s_se_sl, s_se_sw, s_se_pl, s_se_pw, v_se_sl, v_se_sw, v_se_pl, v_se_pw, vc_se_sl, vc_se_sw, vc_se_pl, vc_se_pw)\n",
    "\n",
    "plt.rcParams['figure.figsize'] = [10, 11]\n",
    "plt.bar(x,y, yerr = se, capsize = 5, width = 0.5)\n",
    "plt.title('Mean and Confidence Interval of each class of FLower')"
   ]
  },
  {
   "cell_type": "markdown",
   "id": "888c4e74-0e38-4556-919b-123b2d363619",
   "metadata": {
    "tags": []
   },
   "source": [
    "## 7) From the two mean estimates above, draw at least one relationship conclusion (e.g. the mean of X is larger than the mean of Y ) and find the p-value that shows the strength of that conclusion. Does this mean you can reject your hypothesis or not?\n",
    "## a) Looking at the data (in the form of a histogram), how close is it to a Normal distribution?\n",
    "## b) If it is not close, then what does this say about your p-value?"
   ]
  },
  {
   "cell_type": "code",
   "execution_count": 28,
   "id": "43d6da52-83b3-422f-868a-8c80b4c1c3f2",
   "metadata": {},
   "outputs": [],
   "source": [
    "# NEEDED TO CALCULATE THE P-VALUE\n",
    "\n",
    "def normal_cdf(x, mu, sigma):\n",
    "    return (1 + math.erf((x-mu)/(sigma*np.sqrt(2))))/2\n",
    "\n",
    "def normal_probability_above(t, mu, sigma):\n",
    "    \"\"\"Calculate P(X > t)\"\"\"\n",
    "    # int from t to inf is 1 - int from -inf to t\n",
    "    return 1 - normal_cdf(t,mu,sigma)\n",
    "\n",
    "def two_sided_p(x, mu, sigma):\n",
    "    if x >= mu:\n",
    "        return 2 * normal_probability_above(x,mu,sigma)\n",
    "    else:\n",
    "        return 2 * normal_cdf(x,mu,sigma)\n",
    "\n"
   ]
  },
  {
   "cell_type": "code",
   "execution_count": 30,
   "id": "ab0bc048-3d23-4341-b97e-85318caa857a",
   "metadata": {},
   "outputs": [
    {
     "name": "stdout",
     "output_type": "stream",
     "text": [
      "Null Hypothesis: The Sepal Length of Virginica is larger than the Sepal Length of Setosa\n",
      "========================================================================================\n",
      "The average Sepal Length of Virginica is 6.587999999999998\n",
      "The average Sepal Length of Setosa is 5.006\n",
      "The p-value is 0.055253723554025136\n"
     ]
    },
    {
     "data": {
      "text/plain": [
       "<AxesSubplot:ylabel='Frequency'>"
      ]
     },
     "execution_count": 30,
     "metadata": {},
     "output_type": "execute_result"
    },
    {
     "data": {
      "image/png": "[encoded data removed]",
      "text/plain": [
       "<Figure size 720x792 with 1 Axes>"
      ]
     },
     "metadata": {
      "needs_background": "light"
     },
     "output_type": "display_data"
    }
   ],
   "source": [
    "print('Null Hypothesis: The Sepal Length of Virginica is larger than the Sepal Length of Setosa')\n",
    "print('========================================================================================')\n",
    "\n",
    "sv = virginica['Sepal Length'].mean()\n",
    "ss = setosa['Sepal Length'].mean()\n",
    "\n",
    "print(f'The average Sepal Length of Virginica is {sv}')\n",
    "print(f'The average Sepal Length of Setosa is {ss}')\n",
    "\n",
    "p_value = two_sided_p(sv,ss, iris['Sepal Length'].values.std())\n",
    "print(f'The p-value is {p_value}')\n",
    "\n",
    "v = virginica['Sepal Length']\n",
    "s = setosa['Sepal Length']\n",
    "\n",
    "v.plot.hist( bins = 15, color = 'r')\n",
    "s.plot.hist( bins = 15, color = 'b')\n",
    "\n"
   ]
  },
  {
   "cell_type": "markdown",
   "id": "2038853f-6bc2-4693-8747-b5c1e1dbd4ec",
   "metadata": {},
   "source": [
    "Since the p-value is not less than 0.05 we do not reject the null hypothesis. So we do not have enough evidence to suggest that the Sepal Length of Virginica is not larger than Sepal Length of Setosa. So we can conlcude that the Sepal Length of Virginca is larger than the Sepal Length of Setosa. Based on the histograms above we can say that the Sepal Length of Setosa seems to follow a normal distribution while Virginica seems to be more skewed. "
   ]
  }
 ],
 "metadata": {
  "kernelspec": {
   "display_name": "Python 3 (ipykernel)",
   "language": "python",
   "name": "python3"
  },
  "language_info": {
   "codemirror_mode": {
    "name": "ipython",
    "version": 3
   },
   "file_extension": ".py",
   "mimetype": "text/x-python",
   "name": "python",
   "nbconvert_exporter": "python",
   "pygments_lexer": "ipython3",
   "version": "3.8.12"
  }
 },
 "nbformat": 4,
 "nbformat_minor": 5
}
