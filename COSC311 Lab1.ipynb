{
 "cells": [
  {
   "cell_type": "code",
   "execution_count": 31,
   "id": "465f05bc-3343-4d8e-9b8e-e0a81e17377b",
   "metadata": {
    "scrolled": true
   },
   "outputs": [],
   "source": [
    "artist = [\n",
    "    {'id': 0, 'name': 'Mary Poppins'},\n",
    "    {'id': 1, 'name': 'Olivia Rodrigo'},\n",
    "    {'id': 2, 'name': 'The Weeknd'},\n",
    "    {'id': 3, 'name': 'Panic at the Disco'},\n",
    "    {'id': 4, 'name': 'Miley Cyrus'},\n",
    "    {'id': 5, 'name': 'Ariana Grande'},\n",
    "    {'id': 6, 'name': 'NF'},\n",
    "    {'id': 7, 'name': 'J Cole'},\n",
    "    {'id': 8, 'name': 'Joyner Lucas'},\n",
    "    {'id': 9, 'name': 'Michael Jackson'},\n",
    "    {'id': 10, 'name':'D4NNY'},\n",
    "    {'id': 11, 'name':'Marli Artiste'},\n",
    "    {'id': 12, 'name':'Matthew James Hemmer'},\n",
    "    {'id': 13, 'name':'The Hiltonaires'},\n",
    "    {'id': 14, 'name':'Mike Post'},\n",
    "    {'id': 15, 'name':'Alvin and the Chipmunks'},\n",
    "]\n",
    "\n",
    "songs = [\n",
    "    {'id': 0, 'name': 'TRUST'},\n",
    "    {'id': 1, 'name': 'Safety Net'},\n",
    "    {'id': 2, 'name': 'No Role Modelz'},\n",
    "    {'id': 3, 'name': 'Favorite Crime'},\n",
    "    {'id': 4, 'name': 'Let You Down'},\n",
    "    {'id': 5, 'name': 'Evolution'},\n",
    "    {'id': 6, 'name': 'PRIDEFULL'},\n",
    "    {'id': 7, 'name': 'Beat It'},\n",
    "    {'id': 8, 'name': 'Emperors New Clothes'},\n",
    "    {'id': 9, 'name': 'The Perfect Nanny'},\n",
    "    {'id': 10, 'name': 'House of Balloons'}\n",
    "]\n",
    "\n",
    "artist_songs = [\n",
    "    (0,9), \n",
    "    (1,3), (1,9),\n",
    "    (2,1), (2,10),\n",
    "    (3,8), \n",
    "    (5,1), \n",
    "    (6,0), (6,4), (6,6),\n",
    "    (7,2), \n",
    "    (8,5), \n",
    "    (9,7),\n",
    "    (10,2),\n",
    "    (12,8),\n",
    "    (11,2),\n",
    "    (13,7),\n",
    "    (14,7),\n",
    "    (15,7),\n",
    "]\n"
   ]
  },
  {
   "cell_type": "code",
   "execution_count": 32,
   "id": "17de05b5",
   "metadata": {},
   "outputs": [],
   "source": [
    "def artist_name(id):\n",
    "    for a in artist:\n",
    "        if a['id'] == id:\n",
    "            return a['name']"
   ]
  },
  {
   "cell_type": "code",
   "execution_count": 33,
   "id": "f5662ad9",
   "metadata": {},
   "outputs": [],
   "source": [
    "def song_name(id):\n",
    "    for s in songs:\n",
    "        if s['id'] == id:\n",
    "            return s['name']"
   ]
  },
  {
   "cell_type": "code",
   "execution_count": 34,
   "id": "12257ac7",
   "metadata": {},
   "outputs": [],
   "source": [
    "# Takes name of song and returns artist who covered that song\n",
    "def who_covered(song_name):\n",
    "    for i in range(len(songs)):\n",
    "        if songs[i]['name'] == song_name:\n",
    "            song_index = songs[i]['id']\n",
    "     \n",
    "    covered_list = []\n",
    "    \n",
    "    for artistIndex,nameIndex in artist_songs:\n",
    "        if nameIndex == song_index:\n",
    "            covered_list.append(artist[artistIndex]['name'])\n",
    "    return covered_list"
   ]
  },
  {
   "cell_type": "code",
   "execution_count": 35,
   "id": "38277f69",
   "metadata": {},
   "outputs": [
    {
     "name": "stdout",
     "output_type": "stream",
     "text": [
      "['The Weeknd', 'Ariana Grande'] covered Safety Net\n",
      "['NF'] covered TRUST\n",
      "['J Cole', 'D4NNY', 'Marli Artiste'] covered No Role Modelz\n",
      "['Olivia Rodrigo'] covered Favorite Crime\n",
      "['NF'] covered Let You Down\n",
      "['Joyner Lucas'] covered Evolution\n",
      "['NF'] covered PRIDEFUL\n",
      "['Michael Jackson', 'The Hiltonaires', 'Mike Post', 'Alvin and the Chipmunks'] covered Beat It\n",
      "['Panic at the Disco', 'Matthew James Hemmer'] covered Emperor New Clothes\n",
      "['Mary Poppins', 'Olivia Rodrigo'] covered The Perfect Nanny\n",
      "['The Weeknd'] covered House of Balloons\n"
     ]
    }
   ],
   "source": [
    "print(f'{who_covered(\"Safety Net\")} covered Safety Net')\n",
    "print(f'{who_covered(\"TRUST\")} covered TRUST')\n",
    "print(f'{who_covered(\"No Role Modelz\")} covered No Role Modelz')\n",
    "print(f'{who_covered(\"Favorite Crime\")} covered Favorite Crime')\n",
    "print(f'{who_covered(\"Let You Down\")} covered Let You Down')\n",
    "print(f'{who_covered(\"Evolution\")} covered Evolution')\n",
    "print(f'{who_covered(\"PRIDEFULL\")} covered PRIDEFUL')\n",
    "print(f'{who_covered(\"Beat It\")} covered Beat It')\n",
    "print(f'{who_covered(\"Emperors New Clothes\")} covered Emperor New Clothes')\n",
    "print(f'{who_covered(\"The Perfect Nanny\")} covered The Perfect Nanny')\n",
    "print(f'{who_covered(\"House of Balloons\")} covered House of Balloons')"
   ]
  },
  {
   "cell_type": "code",
   "execution_count": 36,
   "id": "e6faf53c",
   "metadata": {},
   "outputs": [],
   "source": [
    "def shared_songs(artist_name):\n",
    "    \n",
    "    for i in range(len(artist)):\n",
    "        if artist[i]['name'] == artist_name:\n",
    "            artist_index = artist[i]['id']\n",
    "        s_song = []\n",
    "    \n",
    "    for artistIndex,songIndex in artist_songs:\n",
    "        if artistIndex == artist_index:\n",
    "            s_song.append(songs[songIndex]['name'])\n",
    "    return s_song\n",
    "        "
   ]
  },
  {
   "cell_type": "code",
   "execution_count": 37,
   "id": "9ead17fd",
   "metadata": {},
   "outputs": [
    {
     "data": {
      "text/plain": [
       "['Safety Net', 'House of Balloons']"
      ]
     },
     "execution_count": 37,
     "metadata": {},
     "output_type": "execute_result"
    }
   ],
   "source": [
    "shared_songs('The Weeknd')"
   ]
  },
  {
   "cell_type": "code",
   "execution_count": 57,
   "id": "9adf94a9",
   "metadata": {},
   "outputs": [],
   "source": [
    "\n",
    "#  prints out – in order from most to least covers – the name and number of times each song has been covered\n",
    "\n",
    "def song_popularity():\n",
    "    song_pop = []\n",
    "    song_id = 0\n",
    "    \n",
    "    for s in range(len(songs)):\n",
    "        count = 0\n",
    "        for a in artist_songs:\n",
    "            if (a[1] == song_id):\n",
    "                count += 1\n",
    "                \n",
    "        song_pop.append((song_id, count))\n",
    "        song_id += 1\n",
    "    \n",
    "    for i in song_pop:\n",
    "        song_name = songs[i[0]]['name']\n",
    "        print(f'{song_name} was covered {i[1]} times')"
   ]
  },
  {
   "cell_type": "code",
   "execution_count": 58,
   "id": "1bbaf18f",
   "metadata": {
    "scrolled": true
   },
   "outputs": [
    {
     "name": "stdout",
     "output_type": "stream",
     "text": [
      "TRUST was covered 1 times\n",
      "Safety Net was covered 2 times\n",
      "No Role Modelz was covered 3 times\n",
      "Favorite Crime was covered 1 times\n",
      "Let You Down was covered 1 times\n",
      "Evolution was covered 1 times\n",
      "PRIDEFULL was covered 1 times\n",
      "Beat It was covered 4 times\n",
      "Emperors New Clothes was covered 2 times\n",
      "The Perfect Nanny was covered 2 times\n",
      "House of Balloons was covered 1 times\n"
     ]
    }
   ],
   "source": [
    "song_popularity()"
   ]
  },
  {
   "cell_type": "code",
   "execution_count": 50,
   "id": "393ab23e",
   "metadata": {},
   "outputs": [],
   "source": [
    "keywords = {\n",
    "    (0,'fantasy'),  # Mary Poppins\n",
    "    (1,'love'),(1,'sad'),   # Olivia Rodrigo\n",
    "    (2, 'love'),(2,'r&b'),     # The Weeknd\n",
    "    (3,'rock'),     # Panic at the Disco\n",
    "    (4,'rock'),(4,'pop'),   # Miley Cyrus \n",
    "    (5,'pop'),(5,'r&b'),(5,'love'),   # Ariana Grande\n",
    "    (6,'rap'),(6,'real-life'),(6,'sad'),     # NF\n",
    "    (7,'rap'),(7,'hype'),    # J Cole\n",
    "    (8,'rap'),(8,'hype'),     # Joyner Lucas\n",
    "    (9,'pop'),(9,'dance'),     # Michael Jackson\n",
    "    (10,'rap'),(10,'youtube'),(10,'UK'),   # D4NNY\n",
    "    (11,'r&b'),(11,'love'),(11,'sad'),  # Marli Artiste\n",
    "    (12,'rap'),(12,'youtube'),    # Matthew James Hemmer\n",
    "    (13,'UK'),(13,'dance'),(13,'rock')   # The Hiltonaires\n",
    "    (14,'tv-theme'),(14,'rock'),(14,'pop'),    # Mike Post\n",
    "    (15,'fantasy'),(15,'pop'),(15,'dance'),   # Alvin and the Chipmunks\n",
    "}\n",
    "\n"
   ]
  },
  {
   "cell_type": "code",
   "execution_count": 51,
   "id": "3c789827",
   "metadata": {
    "scrolled": true
   },
   "outputs": [],
   "source": [
    "def similar_artists(artists):\n",
    "    \n",
    "    artist_id = [i['id'] for i in artist if i['name'] == artists]\n",
    "    if (artist_id == []):\n",
    "        return None\n",
    "    artists_keywords = [i[1] for i in keywords if i[0] == artist_id[0]]\n",
    "    similar_music = []\n",
    "    for i in artists_keywords:\n",
    "        for k in keywords:\n",
    "            if k[0] == artist_id[0]:\n",
    "                continue\n",
    "            if k[0] in similar_music:\n",
    "                continue\n",
    "            if i == k[1]:\n",
    "                similar_music.append(k[0])\n",
    "    if similar_music == []:\n",
    "        return None\n",
    "    artist_names = []\n",
    "    for i in similar_music:\n",
    "        for k in artist:\n",
    "            if i == k['id']:\n",
    "                artist_names.append(k['name'])\n",
    "    return artist_names\n"
   ]
  },
  {
   "cell_type": "code",
   "execution_count": 52,
   "id": "63e6b88d",
   "metadata": {
    "scrolled": true
   },
   "outputs": [
    {
     "name": "stdout",
     "output_type": "stream",
     "text": [
      "['Joyner Lucas', 'D4NNY', 'Matthew James Hemmer', 'J Cole', 'Olivia Rodrigo', 'Marli Artiste']\n"
     ]
    }
   ],
   "source": [
    "print(similar_artists('NF'))"
   ]
  }
 ],
 "metadata": {
  "kernelspec": {
   "display_name": "Python 3",
   "language": "python",
   "name": "python3"
  },
  "language_info": {
   "codemirror_mode": {
    "name": "ipython",
    "version": 3
   },
   "file_extension": ".py",
   "mimetype": "text/x-python",
   "name": "python",
   "nbconvert_exporter": "python",
   "pygments_lexer": "ipython3",
   "version": "3.8.8"
  }
 },
 "nbformat": 4,
 "nbformat_minor": 5
}
